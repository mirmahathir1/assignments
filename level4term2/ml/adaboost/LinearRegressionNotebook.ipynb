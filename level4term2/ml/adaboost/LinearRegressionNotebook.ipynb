{
 "cells": [
  {
   "cell_type": "code",
   "execution_count": 93,
   "outputs": [
    {
     "data": {
      "text/plain": "<module 'lib.log' from '/mnt/604a8326-53f8-4a01-bed2-313518eb2318/LinuxData/Documents/Git/assignments/adaboost/lib/log.py'>"
     },
     "execution_count": 93,
     "metadata": {},
     "output_type": "execute_result"
    }
   ],
   "source": [
    "from sklearn.model_selection import train_test_split\n",
    "\n",
    "#load data from any one of the following lines\n",
    "# import data_preprocessing.credit as data_loader\n",
    "# import data_preprocessing.adult as data_loader\n",
    "import data_preprocessing.telco as data_loader\n",
    "\n",
    "import lib.regression as reg\n",
    "import numpy as np\n",
    "import importlib\n",
    "import lib.log as log\n",
    "importlib.reload(reg)\n",
    "importlib.reload(data_loader)\n",
    "importlib.reload(log)"
   ],
   "metadata": {
    "collapsed": false,
    "pycharm": {
     "name": "#%%\n"
    }
   }
  },
  {
   "cell_type": "code",
   "execution_count": 94,
   "outputs": [
    {
     "name": "stdout",
     "output_type": "stream",
     "text": [
      "Load telco dataset\n"
     ]
    }
   ],
   "source": [
    "(X, Y) = data_loader.load(column_count=999)\n",
    "#%\n",
    "X_train, X_test, y_train, y_test = train_test_split(X, Y, test_size=0.20, random_state=42)"
   ],
   "metadata": {
    "collapsed": false,
    "pycharm": {
     "name": "#%%\n"
    }
   }
  },
  {
   "cell_type": "code",
   "execution_count": 95,
   "outputs": [
    {
     "name": "stdout",
     "output_type": "stream",
     "text": [
      "Epoch 0. Loss= 1.8236582933517649\n",
      "Epoch 100. Loss= 1.0371300200002798\n",
      "Epoch 200. Loss= 0.9663410836550198\n",
      "Epoch 300. Loss= 1.000780543803455\n",
      "Epoch 400. Loss= 1.007493814955985\n",
      "Epoch 500. Loss= 0.9514999446883466\n",
      "Epoch 600. Loss= 0.9512529864000064\n",
      "Epoch 700. Loss= 0.9626175106424112\n",
      "Epoch 800. Loss= 0.95687483817664\n",
      "Epoch 900. Loss= 0.989826818260993\n"
     ]
    }
   ],
   "source": [
    "logistic_regression =  reg.LogisticRegression()\n",
    "loss = logistic_regression.fit(X_train,y_train,number_of_epochs=1000,learning_rate=0.01)"
   ],
   "metadata": {
    "collapsed": false,
    "pycharm": {
     "name": "#%%\n"
    }
   }
  },
  {
   "cell_type": "code",
   "execution_count": 96,
   "outputs": [],
   "source": [
    "y_pred_train = logistic_regression.predict(X_train)\n",
    "y_pred_test = logistic_regression.predict(X_test)"
   ],
   "metadata": {
    "collapsed": false,
    "pycharm": {
     "name": "#%%\n"
    }
   }
  },
  {
   "cell_type": "code",
   "execution_count": 97,
   "outputs": [
    {
     "name": "stdout",
     "output_type": "stream",
     "text": [
      "training stats: __________________________________________________\n",
      "train accuracy: 74.97337593184238%\n",
      "precision: 51.99443413729128%\n",
      "recall: 74.93315508021391%\n",
      "f1 score: 61.39101861993428%\n",
      "false discovery: 48.00556586270872%\n",
      "specificity: 74.9879168680522%\n",
      "testing stats: __________________________________________________\n",
      "train accuracy: 76.5081618168914%\n",
      "precision: 53.97727272727273%\n",
      "recall: 76.40750670241286%\n",
      "f1 score: 63.263041065482795%\n",
      "false discovery: 46.02272727272727%\n",
      "specificity: 76.54440154440154%\n"
     ]
    }
   ],
   "source": [
    "print(\"training stats: \"+\"_\"*50)\n",
    "log.report_performance(y_train, y_pred_train)\n",
    "print(\"testing stats: \"+\"_\"*50)\n",
    "log.report_performance(y_test, y_pred_test)"
   ],
   "metadata": {
    "collapsed": false,
    "pycharm": {
     "name": "#%%\n"
    }
   }
  },
  {
   "cell_type": "code",
   "execution_count": 97,
   "outputs": [],
   "source": [],
   "metadata": {
    "collapsed": false,
    "pycharm": {
     "name": "#%%\n"
    }
   }
  }
 ],
 "metadata": {
  "kernelspec": {
   "display_name": "Python 3",
   "language": "python",
   "name": "python3"
  },
  "language_info": {
   "codemirror_mode": {
    "name": "ipython",
    "version": 2
   },
   "file_extension": ".py",
   "mimetype": "text/x-python",
   "name": "python",
   "nbconvert_exporter": "python",
   "pygments_lexer": "ipython2",
   "version": "2.7.6"
  }
 },
 "nbformat": 4,
 "nbformat_minor": 0
}