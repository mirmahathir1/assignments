{
 "cells": [
  {
   "cell_type": "code",
   "execution_count": 83,
   "metadata": {
    "collapsed": true,
    "pycharm": {
     "name": "#%%\n"
    }
   },
   "outputs": [
    {
     "name": "stdout",
     "output_type": "stream",
     "text": [
      "Load telco dataset\n"
     ]
    }
   ],
   "source": [
    "import numpy as np\n",
    "import pandas as pd\n",
    "from sklearn.preprocessing import LabelEncoder\n",
    "from sklearn.preprocessing import StandardScaler\n",
    "from sklearn.feature_selection import mutual_info_classif\n",
    "\n",
    "column_count = 5\n",
    "\n",
    "print(\"Load telco dataset\")\n",
    "dataframe = pd.read_csv('data/telco-customer-churn/WA_Fn-UseC_-Telco-Customer-Churn.csv')\n",
    "\n",
    "dataframe.drop('customerID', axis=1, inplace=True)\n",
    "\n",
    "# process Total Charges\n",
    "total_charges = []\n",
    "for i in dataframe['TotalCharges']:\n",
    "    if not i == ' ':\n",
    "        total_charges.append(float(i))\n",
    "mean_of_total_charge = np.mean(total_charges)\n",
    "dataframe['TotalCharges'] = dataframe['TotalCharges'].replace(' ', mean_of_total_charge)\n",
    "\n",
    "# Process Gender\n",
    "gender_encoder = LabelEncoder()\n",
    "gender_encoder.fit(dataframe['gender'])\n",
    "dataframe[\"gender_encoded\"] = gender_encoder.transform(dataframe['gender'])\n",
    "\n",
    "dataframe.drop('gender', inplace=True, axis=1)\n",
    "\n",
    "# Process Partner\n",
    "Partner_encoder = LabelEncoder()\n",
    "Partner_encoder.fit(dataframe['Partner'])\n",
    "dataframe[\"Partner_encoded\"] = Partner_encoder.transform(dataframe['Partner'])\n",
    "dataframe.drop('Partner', inplace=True, axis=1)\n",
    "\n",
    "# Process Dependents\n",
    "Dependents_encoder = LabelEncoder()\n",
    "Dependents_encoder.fit(dataframe['Dependents'])\n",
    "dataframe[\"Dependents_encoded\"] = Dependents_encoder.transform(dataframe['Dependents'])\n",
    "dataframe.drop(['Dependents'], inplace=True, axis=1)\n",
    "\n",
    "# Process PhoneService\n",
    "PhoneService_encoder = LabelEncoder()\n",
    "PhoneService_encoder.fit(dataframe['PhoneService'])\n",
    "dataframe[\"PhoneService_encoded\"] = PhoneService_encoder.transform(dataframe['PhoneService'])\n",
    "dataframe.drop(['PhoneService'], inplace=True, axis=1)\n",
    "\n",
    "# Process MultipleLines\n",
    "dataframe['MultipleLines_No'] = dataframe['MultipleLines'].map({'No': 1, 'No phone service': 0, 'Yes': 0}).astype(\n",
    "    int)\n",
    "dataframe['MultipleLines_No_phone_service'] = dataframe['MultipleLines'].map(\n",
    "    {'No': 0, 'No phone service': 1, 'Yes': 0}).astype(int)\n",
    "dataframe.drop(['MultipleLines'], inplace=True, axis=1)\n",
    "\n",
    "# Process InternetService\n",
    "dataframe['InternetService_DSL'] = dataframe['InternetService'].map({'DSL': 1, 'Fiber optic': 0, 'No': 0}).astype(\n",
    "    int)\n",
    "dataframe['InternetService_Fiber_optic'] = dataframe['InternetService'].map(\n",
    "    {'DSL': 0, 'Fiber optic': 1, 'No': 0}).astype(int)\n",
    "dataframe.drop(['InternetService'], inplace=True, axis=1)\n",
    "\n",
    "# Process OnlineSecurity\n",
    "dataframe['OnlineSecurity_No'] = dataframe['OnlineSecurity'].map(\n",
    "    {'No': 1, 'Yes': 0, 'No internet service': 0}).astype(int)\n",
    "dataframe['OnlineSecurity_Yes'] = dataframe['OnlineSecurity'].map(\n",
    "    {'No': 0, 'Yes': 1, 'No internet service': 0}).astype(int)\n",
    "dataframe.drop(['OnlineSecurity'], inplace=True, axis=1)\n",
    "\n",
    "# Process OnlineBackup\n",
    "dataframe['OnlineBackup_No'] = dataframe['OnlineBackup'].map({'No': 1, 'Yes': 0, 'No internet service': 0}).astype(\n",
    "    int)\n",
    "dataframe['OnlineBackup_Yes'] = dataframe['OnlineBackup'].map({'No': 0, 'Yes': 1, 'No internet service': 0}).astype(\n",
    "    int)\n",
    "dataframe.drop('OnlineBackup', inplace=True, axis=1)\n",
    "\n",
    "# Process DeviceProtection\n",
    "dataframe['DeviceProtection_No'] = dataframe['DeviceProtection'].map(\n",
    "    {'No': 1, 'Yes': 0, 'No internet service': 0}).astype(int)\n",
    "dataframe['DeviceProtection_Yes'] = dataframe['DeviceProtection'].map(\n",
    "    {'No': 0, 'Yes': 1, 'No internet service': 0}).astype(int)\n",
    "dataframe.drop('DeviceProtection', inplace=True, axis=1)\n",
    "\n",
    "# Process TechSupport\n",
    "dataframe['TechSupport_No'] = dataframe['TechSupport'].map({'No': 1, 'Yes': 0, 'No internet service': 0}).astype(\n",
    "    int)\n",
    "dataframe['TechSupport_Yes'] = dataframe['TechSupport'].map({'No': 0, 'Yes': 1, 'No internet service': 0}).astype(\n",
    "    int)\n",
    "dataframe.drop('TechSupport', inplace=True, axis=1)\n",
    "\n",
    "# Process StreamingTV\n",
    "dataframe['StreamingTV_No'] = dataframe['StreamingTV'].map({'No': 1, 'Yes': 0, 'No internet service': 0}).astype(\n",
    "    int)\n",
    "dataframe['StreamingTV_Yes'] = dataframe['StreamingTV'].map({'No': 0, 'Yes': 1, 'No internet service': 0}).astype(\n",
    "    int)\n",
    "dataframe.drop('StreamingTV', inplace=True, axis=1)\n",
    "\n",
    "# Process StreamingMovies\n",
    "dataframe['StreamingMovies_No'] = dataframe['StreamingMovies'].map(\n",
    "    {'No': 1, 'Yes': 0, 'No internet service': 0}).astype(int)\n",
    "dataframe['StreamingMovies_Yes'] = dataframe['StreamingMovies'].map(\n",
    "    {'No': 0, 'Yes': 1, 'No internet service': 0}).astype(int)\n",
    "dataframe.drop('StreamingMovies', inplace=True, axis=1)\n",
    "\n",
    "# Process Contract\n",
    "dataframe['Contract_One_year'] = dataframe['Contract'].map(\n",
    "    {'One year': 1, 'Two year': 0, 'Month-to-month': 0}).astype(int)\n",
    "dataframe['Contract_Two_year'] = dataframe['Contract'].map(\n",
    "    {'One year': 0, 'Two year': 1, 'Month-to-month': 0}).astype(int)\n",
    "dataframe.drop('Contract', inplace=True, axis=1)\n",
    "\n",
    "# Process PaperlessBilling\n",
    "PaperlessBilling_encoder = LabelEncoder()\n",
    "PaperlessBilling_encoder.fit(dataframe['PaperlessBilling'])\n",
    "dataframe[\"PaperlessBilling_encoded\"] = PaperlessBilling_encoder.transform(dataframe['PaperlessBilling'])\n",
    "dataframe.drop('PaperlessBilling', inplace=True, axis=1)\n",
    "\n",
    "# Process PaymentMethod\n",
    "dataframe['PaymentMethod_Bank_transfer'] = dataframe['PaymentMethod'].map(\n",
    "    {'Bank transfer (automatic)': 1, 'Credit card (automatic)': 0, 'Electronic check': 0,\n",
    "     'Mailed check': 0}).astype(int)\n",
    "dataframe['PaymentMethod_Credit_card'] = dataframe['PaymentMethod'].map(\n",
    "    {'Bank transfer (automatic)': 0, 'Credit card (automatic)': 1, 'Electronic check': 0,\n",
    "     'Mailed check': 0}).astype(int)\n",
    "dataframe['PaymentMethod_Electronic_check'] = dataframe['PaymentMethod'].map(\n",
    "    {'Bank transfer (automatic)': 0, 'Credit card (automatic)': 0, 'Electronic check': 1,\n",
    "     'Mailed check': 0}).astype(int)\n",
    "dataframe.drop('PaymentMethod', inplace=True, axis=1)\n",
    "\n",
    "# Process Churn\n",
    "Churn_encoder = LabelEncoder()\n",
    "Churn_encoder.fit(dataframe['Churn'])\n",
    "dataframe[\"Churn_encoded\"] = Churn_encoder.transform(dataframe['Churn'])\n",
    "dataframe.drop('Churn', inplace=True, axis=1)\n",
    "\n",
    "X_dataframe = dataframe.drop(\"Churn_encoded\", inplace=False, axis=1)\n",
    "Y_dataframe = dataframe[\"Churn_encoded\"]\n",
    "\n",
    "for col in X_dataframe:\n",
    "    for i in range(len(X_dataframe[col])):\n",
    "        try:\n",
    "            float(X_dataframe[col][i])\n",
    "        except ValueError as e:\n",
    "            print(X_dataframe[col][i] == ' ')\n",
    "            print(f\"found missing value {X_dataframe[col][i]} in {col} column, {i} row\")\n",
    "            exit(1)"
   ]
  },
  {
   "cell_type": "code",
   "execution_count": 84,
   "outputs": [
    {
     "data": {
      "text/plain": "[{'column': 'tenure', 'information': 0.06635489640074921},\n {'column': 'TechSupport_No', 'information': 0.06239725323754075},\n {'column': 'OnlineSecurity_No', 'information': 0.05570107853330919},\n {'column': 'Contract_Two_year', 'information': 0.055313934417589694},\n {'column': 'InternetService_Fiber_optic', 'information': 0.04688517603755615},\n {'column': 'PaymentMethod_Electronic_check',\n  'information': 0.04357749580791137},\n {'column': 'TotalCharges', 'information': 0.04335451578665128},\n {'column': 'MonthlyCharges', 'information': 0.0410709039141981},\n {'column': 'OnlineBackup_No', 'information': 0.036357963103512025},\n {'column': 'DeviceProtection_No', 'information': 0.03188408186744196},\n {'column': 'Partner_encoded', 'information': 0.020730796041048327},\n {'column': 'PaperlessBilling_encoded', 'information': 0.01774065536668279},\n {'column': 'Contract_One_year', 'information': 0.01465726628776065},\n {'column': 'PaymentMethod_Bank_transfer',\n  'information': 0.012101760435975661},\n {'column': 'SeniorCitizen', 'information': 0.011970392521165829},\n {'column': 'PaymentMethod_Credit_card', 'information': 0.01123805972805414},\n {'column': 'InternetService_DSL', 'information': 0.010692941376498233},\n {'column': 'OnlineSecurity_Yes', 'information': 0.010645348791555875},\n {'column': 'Dependents_encoded', 'information': 0.010589532840478366},\n {'column': 'TechSupport_Yes', 'information': 0.008634772715103711},\n {'column': 'StreamingTV_Yes', 'information': 0.00854519328781378},\n {'column': 'StreamingTV_No', 'information': 0.008158496319804254},\n {'column': 'OnlineBackup_Yes', 'information': 0.0073407846111746},\n {'column': 'StreamingMovies_No', 'information': 0.007195616343318889},\n {'column': 'DeviceProtection_Yes', 'information': 0.007073845531163414},\n {'column': 'PhoneService_encoded', 'information': 0.0040117006406625855},\n {'column': 'StreamingMovies_Yes', 'information': 0.003935168627569041},\n {'column': 'MultipleLines_No_phone_service',\n  'information': 0.0014740323755981777},\n {'column': 'MultipleLines_No', 'information': 0.0008802053890530903},\n {'column': 'gender_encoded', 'information': 0}]"
     },
     "execution_count": 84,
     "metadata": {},
     "output_type": "execute_result"
    }
   ],
   "source": [
    "information_gains = []\n",
    "for column in X_dataframe.columns:\n",
    "    single_column = X_dataframe[column].to_numpy()\n",
    "    single_column = single_column.reshape((single_column.shape[0],1))\n",
    "    information_gain = mutual_info_classif(single_column, Y_dataframe)[0]\n",
    "    # print(f\"information gain of {column}: {information_gain}\")\n",
    "    information_gains.append({\n",
    "        \"column\": column,\n",
    "        \"information\":information_gain\n",
    "    })\n",
    "\n",
    "sorted_attributes = sorted(information_gains, key=lambda d: d['information'], reverse=True)\n",
    "sorted_attributes"
   ],
   "metadata": {
    "collapsed": false,
    "pycharm": {
     "name": "#%%\n"
    }
   }
  },
  {
   "cell_type": "code",
   "execution_count": 87,
   "outputs": [
    {
     "data": {
      "text/plain": "      tenure  TechSupport_No  OnlineSecurity_No  Contract_Two_year  \\\n0          1               1                  1                  0   \n1         34               1                  0                  0   \n2          2               1                  0                  0   \n3         45               0                  0                  0   \n4          2               1                  1                  0   \n...      ...             ...                ...                ...   \n7038      24               0                  0                  0   \n7039      72               1                  1                  0   \n7040      11               1                  0                  0   \n7041       4               1                  1                  0   \n7042      66               0                  0                  1   \n\n      InternetService_Fiber_optic  \n0                               0  \n1                               0  \n2                               0  \n3                               0  \n4                               1  \n...                           ...  \n7038                            0  \n7039                            1  \n7040                            0  \n7041                            1  \n7042                            1  \n\n[7043 rows x 5 columns]",
      "text/html": "<div>\n<style scoped>\n    .dataframe tbody tr th:only-of-type {\n        vertical-align: middle;\n    }\n\n    .dataframe tbody tr th {\n        vertical-align: top;\n    }\n\n    .dataframe thead th {\n        text-align: right;\n    }\n</style>\n<table border=\"1\" class=\"dataframe\">\n  <thead>\n    <tr style=\"text-align: right;\">\n      <th></th>\n      <th>tenure</th>\n      <th>TechSupport_No</th>\n      <th>OnlineSecurity_No</th>\n      <th>Contract_Two_year</th>\n      <th>InternetService_Fiber_optic</th>\n    </tr>\n  </thead>\n  <tbody>\n    <tr>\n      <th>0</th>\n      <td>1</td>\n      <td>1</td>\n      <td>1</td>\n      <td>0</td>\n      <td>0</td>\n    </tr>\n    <tr>\n      <th>1</th>\n      <td>34</td>\n      <td>1</td>\n      <td>0</td>\n      <td>0</td>\n      <td>0</td>\n    </tr>\n    <tr>\n      <th>2</th>\n      <td>2</td>\n      <td>1</td>\n      <td>0</td>\n      <td>0</td>\n      <td>0</td>\n    </tr>\n    <tr>\n      <th>3</th>\n      <td>45</td>\n      <td>0</td>\n      <td>0</td>\n      <td>0</td>\n      <td>0</td>\n    </tr>\n    <tr>\n      <th>4</th>\n      <td>2</td>\n      <td>1</td>\n      <td>1</td>\n      <td>0</td>\n      <td>1</td>\n    </tr>\n    <tr>\n      <th>...</th>\n      <td>...</td>\n      <td>...</td>\n      <td>...</td>\n      <td>...</td>\n      <td>...</td>\n    </tr>\n    <tr>\n      <th>7038</th>\n      <td>24</td>\n      <td>0</td>\n      <td>0</td>\n      <td>0</td>\n      <td>0</td>\n    </tr>\n    <tr>\n      <th>7039</th>\n      <td>72</td>\n      <td>1</td>\n      <td>1</td>\n      <td>0</td>\n      <td>1</td>\n    </tr>\n    <tr>\n      <th>7040</th>\n      <td>11</td>\n      <td>1</td>\n      <td>0</td>\n      <td>0</td>\n      <td>0</td>\n    </tr>\n    <tr>\n      <th>7041</th>\n      <td>4</td>\n      <td>1</td>\n      <td>1</td>\n      <td>0</td>\n      <td>1</td>\n    </tr>\n    <tr>\n      <th>7042</th>\n      <td>66</td>\n      <td>0</td>\n      <td>0</td>\n      <td>1</td>\n      <td>1</td>\n    </tr>\n  </tbody>\n</table>\n<p>7043 rows × 5 columns</p>\n</div>"
     },
     "execution_count": 87,
     "metadata": {},
     "output_type": "execute_result"
    }
   ],
   "source": [
    "keeping_attributes = []\n",
    "for info in sorted_attributes[:column_count]:\n",
    "    keeping_attributes.append(info[\"column\"])\n",
    "X_dataframe = X_dataframe[keeping_attributes]"
   ],
   "metadata": {
    "collapsed": false,
    "pycharm": {
     "name": "#%%\n"
    }
   }
  },
  {
   "cell_type": "code",
   "execution_count": null,
   "outputs": [],
   "source": [
    "# add bias column\n",
    "X_dataframe['ones'] = 1\n",
    "\n",
    "X_numpy = X_dataframe.to_numpy()\n",
    "Y_numpy = Y_dataframe.to_numpy()\n",
    "scaler = StandardScaler()\n",
    "X_numpy = scaler.fit_transform(X_numpy)"
   ],
   "metadata": {
    "collapsed": false,
    "pycharm": {
     "name": "#%%\n"
    }
   }
  },
  {
   "cell_type": "code",
   "execution_count": null,
   "outputs": [],
   "source": [],
   "metadata": {
    "collapsed": false,
    "pycharm": {
     "name": "#%%\n"
    }
   }
  },
  {
   "cell_type": "code",
   "execution_count": null,
   "outputs": [],
   "source": [],
   "metadata": {
    "collapsed": false,
    "pycharm": {
     "name": "#%%\n"
    }
   }
  }
 ],
 "metadata": {
  "kernelspec": {
   "display_name": "Python 3",
   "language": "python",
   "name": "python3"
  },
  "language_info": {
   "codemirror_mode": {
    "name": "ipython",
    "version": 2
   },
   "file_extension": ".py",
   "mimetype": "text/x-python",
   "name": "python",
   "nbconvert_exporter": "python",
   "pygments_lexer": "ipython2",
   "version": "2.7.6"
  }
 },
 "nbformat": 4,
 "nbformat_minor": 0
}