{
 "cells": [
  {
   "cell_type": "code",
   "execution_count": 69,
   "metadata": {
    "collapsed": true
   },
   "outputs": [
    {
     "data": {
      "text/plain": "<module 'data_preprocessing.telco' from '/mnt/604a8326-53f8-4a01-bed2-313518eb2318/LinuxData/Documents/Git/assignments/adaboost/data_preprocessing/telco.py'>"
     },
     "execution_count": 69,
     "metadata": {},
     "output_type": "execute_result"
    }
   ],
   "source": [
    "from sklearn.model_selection import train_test_split\n",
    "import data_preprocessing.telco as telco_data\n",
    "import lib.regression as reg\n",
    "from sklearn.metrics import accuracy_score\n",
    "from numpy.random import choice\n",
    "import numpy as np\n",
    "\n",
    "import importlib\n",
    "importlib.reload(reg)\n",
    "importlib.reload(telco_data)"
   ]
  },
  {
   "cell_type": "code",
   "execution_count": 70,
   "outputs": [
    {
     "name": "stdout",
     "output_type": "stream",
     "text": [
      "Load telco dataset\n"
     ]
    },
    {
     "data": {
      "text/plain": "(7043, 11)"
     },
     "execution_count": 70,
     "metadata": {},
     "output_type": "execute_result"
    }
   ],
   "source": [
    "(X, Y) = telco_data.load(column_count=10)\n",
    "X_train, X_test, y_train, y_test = train_test_split(X, Y, test_size=0.20)\n",
    "X.shape"
   ],
   "metadata": {
    "collapsed": false,
    "pycharm": {
     "name": "#%%\n"
    }
   }
  },
  {
   "cell_type": "code",
   "execution_count": 71,
   "outputs": [],
   "source": [
    "K_ensembles = 10 # number of hypotheses\n",
    "N_dataset_size = X_train.shape[0]\n",
    "W_data_weights = np.full(N_dataset_size, 1 / N_dataset_size)\n",
    "Z_model_weights = np.zeros((K_ensembles,))\n",
    "models = []"
   ],
   "metadata": {
    "collapsed": false,
    "pycharm": {
     "name": "#%%\n"
    }
   }
  },
  {
   "cell_type": "code",
   "execution_count": 72,
   "outputs": [
    {
     "name": "stdout",
     "output_type": "stream",
     "text": [
      "0.0\n"
     ]
    },
    {
     "data": {
      "text/plain": "(10,)"
     },
     "execution_count": 72,
     "metadata": {},
     "output_type": "execute_result"
    }
   ],
   "source": [
    "print(Z_model_weights[0])\n",
    "Z_model_weights.shape"
   ],
   "metadata": {
    "collapsed": false,
    "pycharm": {
     "name": "#%%\n"
    }
   }
  },
  {
   "cell_type": "code",
   "execution_count": 73,
   "outputs": [
    {
     "name": "stdout",
     "output_type": "stream",
     "text": [
      "0.0001774937877174299\n"
     ]
    },
    {
     "data": {
      "text/plain": "(5634,)"
     },
     "execution_count": 73,
     "metadata": {},
     "output_type": "execute_result"
    }
   ],
   "source": [
    "print(W_data_weights[0])\n",
    "W_data_weights.shape"
   ],
   "metadata": {
    "collapsed": false,
    "pycharm": {
     "name": "#%%\n"
    }
   }
  },
  {
   "cell_type": "code",
   "execution_count": 74,
   "outputs": [
    {
     "name": "stdout",
     "output_type": "stream",
     "text": [
      "Train accuracy of model 0: 0.7541711040113596\n",
      "Test accuracy of model 0: 0.7551454932576295\n",
      "error: 0.24582889598863444\n",
      "Train accuracy of model 1: 0.7479588214412496\n",
      "Test accuracy of model 1: 0.7579843860894251\n",
      "error: 0.20899531316186004\n",
      "Train accuracy of model 2: 0.7563010294639687\n",
      "Test accuracy of model 2: 0.7579843860894251\n",
      "error: 0.1676773422953691\n",
      "Train accuracy of model 3: 0.7554135605253817\n",
      "Test accuracy of model 3: 0.7601135557132718\n",
      "error: 0.14553556658471417\n",
      "Train accuracy of model 4: 0.7534611288604899\n",
      "Test accuracy of model 4: 0.7572746628814763\n",
      "error: 0.1287094840189294\n",
      "Train accuracy of model 5: 0.7575434859779908\n",
      "Test accuracy of model 5: 0.7615330021291696\n",
      "error: 0.11114164243643772\n",
      "Train accuracy of model 6: 0.7545260915867945\n",
      "Test accuracy of model 6: 0.759403832505323\n",
      "error: 0.10210045154363255\n",
      "Train accuracy of model 7: 0.758075967341143\n",
      "Test accuracy of model 7: 0.7615330021291696\n",
      "error: 0.09070681060734695\n",
      "Train accuracy of model 8: 0.7596734114306\n",
      "Test accuracy of model 8: 0.7629524485450674\n",
      "error: 0.08315523893644958\n",
      "Train accuracy of model 9: 0.7594959176428825\n",
      "Test accuracy of model 9: 0.7608232789212207\n",
      "error: 0.07647046352354833\n"
     ]
    },
    {
     "data": {
      "text/plain": "array([1.12098352, 1.33099207, 1.60217862, 1.77005438, 1.91241766,\n       2.07913245, 2.17410105, 2.30503514, 2.40022896, 2.49129821])"
     },
     "execution_count": 74,
     "metadata": {},
     "output_type": "execute_result"
    }
   ],
   "source": [
    "for k in range(K_ensembles):\n",
    "    sample_indices = choice(range(N_dataset_size), N_dataset_size,\n",
    "              p=W_data_weights)\n",
    "    X_sample_train = X_train[sample_indices]\n",
    "    Y_sample_train = y_train[sample_indices]\n",
    "\n",
    "    logistic_regression = reg.LogisticRegression()\n",
    "    logistic_regression.fit(X_sample_train,\n",
    "                            Y_sample_train,\n",
    "                            number_of_epochs=10000,\n",
    "                            learning_rate=0.01)\n",
    "\n",
    "    print(f\"Train accuracy of model {k}: {accuracy_score(y_train,logistic_regression.predict(X_train))}\")\n",
    "\n",
    "    print(f\"Test accuracy of model {k}: {accuracy_score(y_test, logistic_regression.predict(X_test))}\")\n",
    "    models.append(logistic_regression)\n",
    "    y_hypothesis = logistic_regression.predict(X_train)\n",
    "    error = 0\n",
    "    for j in range(N_dataset_size):\n",
    "        if not y_hypothesis[j] == y_train[j]:\n",
    "            error += W_data_weights[j]\n",
    "    print(f\"error: {error}\")\n",
    "    if error > 0.5:\n",
    "        print(\"skipping ensemble\")\n",
    "        continue\n",
    "\n",
    "    for j in range(N_dataset_size):\n",
    "        if y_hypothesis[j] == y_train[j]:\n",
    "            W_data_weights[j] += ((W_data_weights[j]*error)/(1-error))\n",
    "\n",
    "    W_data_weights = W_data_weights / np.sum(W_data_weights)\n",
    "    Z_model_weights[k] = np.log((1-error)/error)\n",
    "\n",
    "Z_model_weights\n",
    "\n",
    "# loss = logistic_regression.fit(X_train, y_train, batch_size=100, number_of_epochs=1000, learning_rate=0.01)"
   ],
   "metadata": {
    "collapsed": false,
    "pycharm": {
     "name": "#%%\n"
    }
   }
  },
  {
   "cell_type": "code",
   "execution_count": 75,
   "outputs": [
    {
     "name": "stdout",
     "output_type": "stream",
     "text": [
      "0.7622427253371186\n"
     ]
    }
   ],
   "source": [
    "weighted_predictions = np.zeros((K_ensembles, X_test.shape[0]))\n",
    "\n",
    "for i in range(K_ensembles):\n",
    "    Y_pred = models[i].predict(X_test)\n",
    "    Y_pred = np.where(Y_pred == 0, -1, Y_pred) * Z_model_weights[i]\n",
    "    weighted_predictions[i] = Y_pred.reshape((Y_pred.shape[0],))\n",
    "\n",
    "prediction_sums = np.sum(weighted_predictions, axis=0)\n",
    "predictions = np.where(prediction_sums > 0, 1, prediction_sums)\n",
    "Y_pred = np.where(prediction_sums <= 0, 0, predictions)\n",
    "\n",
    "print(accuracy_score(y_test, Y_pred))"
   ],
   "metadata": {
    "collapsed": false,
    "pycharm": {
     "name": "#%%\n"
    }
   }
  },
  {
   "cell_type": "code",
   "execution_count": 75,
   "outputs": [],
   "source": [],
   "metadata": {
    "collapsed": false,
    "pycharm": {
     "name": "#%%\n"
    }
   }
  }
 ],
 "metadata": {
  "kernelspec": {
   "display_name": "Python 3",
   "language": "python",
   "name": "python3"
  },
  "language_info": {
   "codemirror_mode": {
    "name": "ipython",
    "version": 2
   },
   "file_extension": ".py",
   "mimetype": "text/x-python",
   "name": "python",
   "nbconvert_exporter": "python",
   "pygments_lexer": "ipython2",
   "version": "2.7.6"
  }
 },
 "nbformat": 4,
 "nbformat_minor": 0
}