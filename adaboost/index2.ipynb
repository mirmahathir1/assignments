{
 "cells": [
  {
   "cell_type": "code",
   "execution_count": 167,
   "metadata": {
    "collapsed": true
   },
   "outputs": [
    {
     "data": {
      "text/plain": "<module 'lib.log' from '/mnt/604a8326-53f8-4a01-bed2-313518eb2318/LinuxData/Documents/Git/assignments/adaboost/lib/log.py'>"
     },
     "execution_count": 167,
     "metadata": {},
     "output_type": "execute_result"
    }
   ],
   "source": [
    "from sklearn.model_selection import train_test_split\n",
    "# import data_preprocessing.telco as data_loader\n",
    "# import data_preprocessing.adult as data_loader\n",
    "import data_preprocessing.credit as data_loader\n",
    "import lib.regression as reg\n",
    "import lib.log as log\n",
    "from sklearn.metrics import accuracy_score\n",
    "from numpy.random import choice\n",
    "import numpy as np\n",
    "np.random.seed(seed=42)\n",
    "import importlib\n",
    "importlib.reload(reg)\n",
    "importlib.reload(data_loader)\n",
    "importlib.reload(log)"
   ]
  },
  {
   "cell_type": "code",
   "execution_count": 168,
   "outputs": [
    {
     "name": "stdout",
     "output_type": "stream",
     "text": [
      "row count with class 1: 492\n",
      "row count with class 0: 284315\n",
      "0 classes are 577 times more than 1 classes\n",
      "Dataframe columns: Index(['V1', 'V2', 'V3', 'V4', 'V5', 'V6', 'V7', 'V8', 'V9', 'V10', 'V11',\n",
      "       'V12', 'V13', 'V14', 'V15', 'V16', 'V17', 'V18', 'V19', 'V20', 'V21',\n",
      "       'V22', 'V23', 'V24', 'V25', 'V26', 'V27', 'V28', 'Amount', 'Class'],\n",
      "      dtype='object')\n",
      "length of keeping attributes: 29\n",
      "X_numpy shape: (20492, 30)\n",
      "Y_numpy shape: (20492, 1)\n"
     ]
    },
    {
     "data": {
      "text/plain": "(20492, 30)"
     },
     "execution_count": 168,
     "metadata": {},
     "output_type": "execute_result"
    }
   ],
   "source": [
    "(X, Y) = data_loader.load(column_count=999)\n",
    "X_train, X_test, y_train, y_test = train_test_split(X, Y, test_size=0.20, random_state=42)\n",
    "X.shape"
   ],
   "metadata": {
    "collapsed": false,
    "pycharm": {
     "name": "#%%\n"
    }
   }
  },
  {
   "cell_type": "code",
   "execution_count": 169,
   "outputs": [],
   "source": [
    "K_ensembles = 5 # number of hypotheses\n",
    "N_dataset_size = X_train.shape[0]\n",
    "W_data_weights = np.full(N_dataset_size, 1 / N_dataset_size)\n",
    "Z_model_weights = np.zeros((K_ensembles,))\n",
    "models = []"
   ],
   "metadata": {
    "collapsed": false,
    "pycharm": {
     "name": "#%%\n"
    }
   }
  },
  {
   "cell_type": "code",
   "execution_count": 170,
   "outputs": [
    {
     "name": "stdout",
     "output_type": "stream",
     "text": [
      "Epoch 0. Loss= 0.369251909913769\n",
      "Epoch 100. Loss= 0.023424814169668073\n",
      "Epoch 200. Loss= 0.023424700444566612\n",
      "Epoch 300. Loss= 0.02342467360468942\n",
      "Epoch 400. Loss= 0.023424661538849353\n",
      "Epoch 500. Loss= 0.02342465463396955\n",
      "Epoch 600. Loss= 0.023424650130080982\n",
      "Epoch 700. Loss= 0.02342464693722475\n",
      "Epoch 800. Loss= 0.023424644538043764\n",
      "Epoch 900. Loss= 0.02342464265519024\n",
      "Train accuracy of model 0: 0.9945708534130422\n",
      "Test accuracy of model 0: 0.9946328372773847\n",
      "error: 0.005429146586957843\n",
      "Epoch 0. Loss= 0.4199421321168953\n",
      "Epoch 100. Loss= 0.019276110251847726\n",
      "Epoch 200. Loss= 0.01830083843198876\n",
      "Epoch 300. Loss= 0.01830062808447952\n",
      "Epoch 400. Loss= 0.018300581853925028\n",
      "Epoch 500. Loss= 0.01830055936442851\n",
      "Epoch 600. Loss= 0.018300545740775557\n",
      "Epoch 700. Loss= 0.01830053651393511\n",
      "Epoch 800. Loss= 0.018300529814649608\n",
      "Epoch 900. Loss= 0.01830052470997224\n",
      "Train accuracy of model 1: 0.9947538583541755\n",
      "Test accuracy of model 1: 0.9946328372773847\n",
      "error: 0.005218475765455729\n",
      "Epoch 0. Loss= 0.3183618741577833\n",
      "Epoch 100. Loss= 0.021717111148524395\n",
      "Epoch 200. Loss= 0.021716773409092647\n",
      "Epoch 300. Loss= 0.021716692774487872\n",
      "Epoch 400. Loss= 0.02171665196384766\n",
      "Epoch 500. Loss= 0.021716616871977013\n",
      "Epoch 600. Loss= 0.021716521008276913\n",
      "Epoch 700. Loss= 0.02000861958228689\n",
      "Epoch 800. Loss= 0.02000860028639181\n",
      "Epoch 900. Loss= 0.02000859028637702\n",
      "Train accuracy of model 2: 0.9944488501189532\n",
      "Test accuracy of model 2: 0.9941449133935106\n",
      "error: 0.005498974074276704\n",
      "Epoch 0. Loss= 0.28672735287639145\n",
      "Epoch 100. Loss= 0.023910502796179785\n",
      "Epoch 200. Loss= 0.021472399064135568\n",
      "Epoch 300. Loss= 0.021472178533626977\n",
      "Epoch 400. Loss= 0.0209822642226715\n",
      "Epoch 500. Loss= 0.020740603325758042\n",
      "Epoch 600. Loss= 0.020740582747759622\n",
      "Epoch 700. Loss= 0.020740575699007207\n",
      "Epoch 800. Loss= 0.020740572047128522\n",
      "Epoch 900. Loss= 0.02074056977540215\n",
      "Train accuracy of model 3: 0.99481486000122\n",
      "Test accuracy of model 3: 0.9943888753354476\n",
      "error: 0.005105889242350388\n",
      "Epoch 0. Loss= 0.3039677372982496\n",
      "Epoch 100. Loss= 0.02147295186163638\n",
      "Epoch 200. Loss= 0.02147275090687891\n",
      "Epoch 300. Loss= 0.021472690424151758\n",
      "Epoch 400. Loss= 0.02147266134644908\n",
      "Epoch 500. Loss= 0.02147264427338961\n",
      "Epoch 600. Loss= 0.021472633046076915\n",
      "Epoch 700. Loss= 0.021472625098575417\n",
      "Epoch 800. Loss= 0.021472619172397598\n",
      "Epoch 900. Loss= 0.02147261457858633\n",
      "Train accuracy of model 4: 0.9948758616482645\n",
      "Test accuracy of model 4: 0.9946328372773847\n",
      "error: 0.005019880994477345\n"
     ]
    },
    {
     "data": {
      "text/plain": "array([5.21052939, 5.25031778, 5.19767959, 5.27224168, 5.28931653])"
     },
     "execution_count": 170,
     "metadata": {},
     "output_type": "execute_result"
    }
   ],
   "source": [
    "for k in range(K_ensembles):\n",
    "    sample_indices = choice(range(N_dataset_size), N_dataset_size,\n",
    "              p=W_data_weights)\n",
    "    X_sample_train = X_train[sample_indices]\n",
    "    Y_sample_train = y_train[sample_indices]\n",
    "\n",
    "    logistic_regression = reg.LogisticRegression()\n",
    "    logistic_regression.fit(X_sample_train,\n",
    "                            Y_sample_train,\n",
    "                            number_of_epochs=1000,\n",
    "                            learning_rate=0.01)\n",
    "\n",
    "    print(f\"Train accuracy of model {k}: {accuracy_score(y_train,logistic_regression.predict(X_train))}\")\n",
    "\n",
    "    print(f\"Test accuracy of model {k}: {accuracy_score(y_test, logistic_regression.predict(X_test))}\")\n",
    "    models.append(logistic_regression)\n",
    "    y_hypothesis = logistic_regression.predict(X_train)\n",
    "    error = 0\n",
    "    for j in range(N_dataset_size):\n",
    "        if not y_hypothesis[j] == y_train[j]:\n",
    "            error += W_data_weights[j]\n",
    "    print(f\"error: {error}\")\n",
    "    if error > 0.5:\n",
    "        print(\"skipping ensemble\")\n",
    "        continue\n",
    "\n",
    "    for j in range(N_dataset_size):\n",
    "        if y_hypothesis[j] == y_train[j]:\n",
    "            W_data_weights[j] += ((W_data_weights[j]*error)/(1-error))\n",
    "\n",
    "    W_data_weights = W_data_weights / np.sum(W_data_weights)\n",
    "    Z_model_weights[k] = np.log((1-error)/error)\n",
    "\n",
    "Z_model_weights"
   ],
   "metadata": {
    "collapsed": false,
    "pycharm": {
     "name": "#%%\n"
    }
   }
  },
  {
   "cell_type": "code",
   "execution_count": 171,
   "outputs": [
    {
     "name": "stdout",
     "output_type": "stream",
     "text": [
      "testing accuracy: \n",
      "train accuracy: 0.9946328372773847\n",
      "precision: 1.0\n",
      "recall: 0.7708333333333334\n",
      "f1 score: 0.8705882352941177\n",
      "false discovery: 0.0\n",
      "specificity: 1.0\n"
     ]
    }
   ],
   "source": [
    "weighted_predictions_test = np.zeros((K_ensembles, X_test.shape[0]))\n",
    "for i in range(K_ensembles):\n",
    "    Y_pred_test = models[i].predict(X_test)\n",
    "    Y_pred_test = np.where(Y_pred_test == 0, -1, Y_pred_test) * Z_model_weights[i]\n",
    "    weighted_predictions_test[i] = Y_pred_test.reshape((Y_pred_test.shape[0],))\n",
    "\n",
    "prediction_sums = np.sum(weighted_predictions_test, axis=0)\n",
    "predictions = np.where(prediction_sums > 0, 1, prediction_sums)\n",
    "Y_pred_test = np.where(prediction_sums <= 0, 0, predictions)\n",
    "\n",
    "print(\"testing accuracy: \")\n",
    "log.report_performance(y_test, Y_pred_test)"
   ],
   "metadata": {
    "collapsed": false,
    "pycharm": {
     "name": "#%%\n"
    }
   }
  },
  {
   "cell_type": "code",
   "execution_count": 172,
   "outputs": [
    {
     "name": "stdout",
     "output_type": "stream",
     "text": [
      "training accuracy: \n",
      "train accuracy: 0.994936863295309\n",
      "precision: 0.9815384615384616\n",
      "recall: 0.8055555555555556\n",
      "f1 score: 0.8848821081830792\n",
      "false discovery: 0.018461538461538463\n",
      "specificity: 0.9996249296743139\n"
     ]
    }
   ],
   "source": [
    "weighted_predictions_train = np.zeros((K_ensembles, X_train.shape[0]))\n",
    "for i in range(K_ensembles):\n",
    "    Y_pred_train = models[i].predict(X_train)\n",
    "    Y_pred_train = np.where(Y_pred_train == 0, -1, Y_pred_train) * Z_model_weights[i]\n",
    "    weighted_predictions_train[i] = Y_pred_train.reshape((Y_pred_train.shape[0],))\n",
    "\n",
    "prediction_sums = np.sum(weighted_predictions_train, axis=0)\n",
    "predictions = np.where(prediction_sums > 0, 1, prediction_sums)\n",
    "Y_pred_train = np.where(prediction_sums <= 0, 0, predictions)\n",
    "\n",
    "print(\"training accuracy: \")\n",
    "log.report_performance(y_train, Y_pred_train)\n",
    "\n"
   ],
   "metadata": {
    "collapsed": false,
    "pycharm": {
     "name": "#%%\n"
    }
   }
  }
 ],
 "metadata": {
  "kernelspec": {
   "display_name": "Python 3",
   "language": "python",
   "name": "python3"
  },
  "language_info": {
   "codemirror_mode": {
    "name": "ipython",
    "version": 2
   },
   "file_extension": ".py",
   "mimetype": "text/x-python",
   "name": "python",
   "nbconvert_exporter": "python",
   "pygments_lexer": "ipython2",
   "version": "2.7.6"
  }
 },
 "nbformat": 4,
 "nbformat_minor": 0
}