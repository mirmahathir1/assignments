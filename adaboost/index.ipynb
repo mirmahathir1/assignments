{
 "cells": [
  {
   "cell_type": "code",
   "execution_count": 21,
   "metadata": {
    "collapsed": true
   },
   "outputs": [],
   "source": [
    "from sklearn.model_selection import train_test_split\n",
    "import data_preprocessing as dp\n",
    "from sklearn.metrics import accuracy_score\n",
    "import numpy as np"
   ]
  },
  {
   "cell_type": "code",
   "execution_count": 22,
   "outputs": [],
   "source": [
    "(X, Y) = dp.telco.load()\n",
    "X_train, X_test, y_train, y_test = train_test_split(X, Y, test_size=0.20, random_state=42)"
   ],
   "metadata": {
    "collapsed": false,
    "pycharm": {
     "name": "#%%\n"
    }
   }
  },
  {
   "cell_type": "code",
   "execution_count": 23,
   "outputs": [],
   "source": [
    "# logreg = LogisticRegression()\n",
    "# logreg.fit(X_train, y_train)\n",
    "# Y_pred = logreg.predict(X_test)\n",
    "# print(logreg.score(X_train, y_train))\n",
    "# print(accuracy_score(y_test, Y_pred))"
   ],
   "metadata": {
    "collapsed": false,
    "pycharm": {
     "name": "#%%\n"
    }
   }
  },
  {
   "cell_type": "code",
   "execution_count": 24,
   "outputs": [],
   "source": [
    "def tanh(z):\n",
    "    return (np.exp(z)-np.exp(-z))/(np.exp(z)+np.exp(-z))\n",
    "\n",
    "def loss(y, y_hat):\n",
    "    loss = -np.mean(y*(np.log(y_hat)) - (1-y)*np.log(1-y_hat))\n",
    "    return loss\n",
    "\n",
    "def gradients(X, y, y_hat):\n",
    "\n",
    "    # X --> Input.\n",
    "    # y --> true/target value.\n",
    "    # y_hat --> hypothesis/predictions.\n",
    "    # w --> weights (parameter).\n",
    "    # b --> bias (parameter).\n",
    "\n",
    "    # m-> number of training examples.\n",
    "    m = X.shape[0]\n",
    "\n",
    "    # Gradient of loss w.r.t weights.\n",
    "    dw = (1/m)*np.dot(X.T, (y_hat - y))\n",
    "\n",
    "    # Gradient of loss w.r.t bias.\n",
    "    db = (1/m)*np.sum((y_hat - y))\n",
    "\n",
    "    return dw, db\n",
    "\n",
    "def train(X, y, bs, epochs, lr):\n",
    "\n",
    "    # X --> Input.\n",
    "    # y --> true/target value.\n",
    "    # bs --> Batch Size.\n",
    "    # epochs --> Number of iterations.\n",
    "    # lr --> Learning rate.\n",
    "\n",
    "    # m-> number of training examples\n",
    "    # n-> number of features\n",
    "    m, n = X.shape\n",
    "\n",
    "    # Initializing weights and bias to zeros.\n",
    "    w = np.zeros((n,1))\n",
    "    b = 0\n",
    "\n",
    "    # Reshaping y.\n",
    "    y = y.reshape(m,1)\n",
    "\n",
    "    # Empty list to store losses.\n",
    "    losses = []\n",
    "\n",
    "    # Training loop.\n",
    "    for epoch in range(epochs):\n",
    "        for i in range((m-1)//bs + 1):\n",
    "\n",
    "            # Defining batches. SGD.\n",
    "            start_i = i*bs\n",
    "            end_i = start_i + bs\n",
    "            xb = X[start_i:end_i]\n",
    "            yb = y[start_i:end_i]\n",
    "\n",
    "            # Calculating hypothesis/prediction.\n",
    "            y_hat = tanh(np.dot(xb, w)+ b)\n",
    "\n",
    "            # Getting the gradients of loss w.r.t parameters.\n",
    "            dw, db = gradients(xb, yb, y_hat)\n",
    "\n",
    "            # Updating the parameters.\n",
    "            w -= lr*dw\n",
    "            b -= lr*db\n",
    "\n",
    "        # Calculating loss and appending it in the list.\n",
    "        l = loss(y, tanh(np.dot(X, w) + b))\n",
    "        losses.append(l)\n",
    "\n",
    "    # returning weights, bias and losses(List).\n",
    "    return w, b, losses\n",
    "\n",
    "def predict(X):\n",
    "\n",
    "    # X --> Input.\n",
    "\n",
    "    # Calculating presictions/y_hat.\n",
    "    preds = tanh(np.dot(X, w) + b)\n",
    "\n",
    "    # Empty List to store predictions.\n",
    "    pred_class = [1 if i > 0.5 else 0 for i in preds]\n",
    "\n",
    "    return np.array(pred_class)"
   ],
   "metadata": {
    "collapsed": false,
    "pycharm": {
     "name": "#%%\n"
    }
   }
  },
  {
   "cell_type": "code",
   "execution_count": 25,
   "outputs": [
    {
     "name": "stderr",
     "output_type": "stream",
     "text": [
      "/tmp/ipykernel_5482/1291537554.py:8: RuntimeWarning: invalid value encountered in log\n",
      "  loss = -np.mean(y*(np.log(y_hat)) - (1-y)*np.log(1-y_hat))\n"
     ]
    }
   ],
   "source": [
    "w, b, l = train(X_train, y_train, bs=100, epochs=1000, lr=0.01)\n"
   ],
   "metadata": {
    "collapsed": false,
    "pycharm": {
     "name": "#%%\n"
    }
   }
  },
  {
   "cell_type": "code",
   "execution_count": 26,
   "outputs": [
    {
     "name": "stdout",
     "output_type": "stream",
     "text": [
      "0.8225691980127751\n"
     ]
    }
   ],
   "source": [
    "Y_pred = predict(X_test)\n",
    "print(accuracy_score(y_test, Y_pred))\n"
   ],
   "metadata": {
    "collapsed": false,
    "pycharm": {
     "name": "#%%\n"
    }
   }
  },
  {
   "cell_type": "code",
   "execution_count": 27,
   "outputs": [
    {
     "name": "stdout",
     "output_type": "stream",
     "text": [
      "0.7971246006389776\n"
     ]
    }
   ],
   "source": [
    "Y_train_pred = predict(X_train)\n",
    "print(accuracy_score(Y_train_pred, y_train))"
   ],
   "metadata": {
    "collapsed": false,
    "pycharm": {
     "name": "#%%\n"
    }
   }
  },
  {
   "cell_type": "code",
   "execution_count": null,
   "outputs": [],
   "source": [],
   "metadata": {
    "collapsed": false,
    "pycharm": {
     "name": "#%%\n"
    }
   }
  }
 ],
 "metadata": {
  "kernelspec": {
   "display_name": "Python 3",
   "language": "python",
   "name": "python3"
  },
  "language_info": {
   "codemirror_mode": {
    "name": "ipython",
    "version": 2
   },
   "file_extension": ".py",
   "mimetype": "text/x-python",
   "name": "python",
   "nbconvert_exporter": "python",
   "pygments_lexer": "ipython2",
   "version": "2.7.6"
  }
 },
 "nbformat": 4,
 "nbformat_minor": 0
}