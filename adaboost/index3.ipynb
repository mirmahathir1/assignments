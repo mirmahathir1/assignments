{
 "cells": [
  {
   "cell_type": "code",
   "execution_count": 185,
   "metadata": {
    "collapsed": true
   },
   "outputs": [
    {
     "data": {
      "text/plain": "<module 'data_preprocessing.telco' from '/mnt/604a8326-53f8-4a01-bed2-313518eb2318/LinuxData/Documents/Git/assignments/adaboost/data_preprocessing/telco.py'>"
     },
     "execution_count": 185,
     "metadata": {},
     "output_type": "execute_result"
    }
   ],
   "source": [
    "from sklearn.model_selection import train_test_split\n",
    "import data_preprocessing.telco as telco_data\n",
    "import lib.regression as reg\n",
    "import numpy as np\n",
    "from sklearn.metrics import accuracy_score\n",
    "import importlib\n",
    "importlib.reload(reg)\n",
    "importlib.reload(telco_data)"
   ]
  },
  {
   "cell_type": "code",
   "execution_count": 186,
   "outputs": [
    {
     "name": "stdout",
     "output_type": "stream",
     "text": [
      "Load telco dataset\n"
     ]
    }
   ],
   "source": [
    "# (X, Y) = telco_data.load(row_count=100, col_count=5)\n",
    "(X, Y) = telco_data.load(column_count=10)\n",
    "X_train, X_test, y_train, y_test = train_test_split(X, Y, test_size=0.20)"
   ],
   "metadata": {
    "collapsed": false,
    "pycharm": {
     "name": "#%%\n"
    }
   }
  },
  {
   "cell_type": "code",
   "execution_count": 187,
   "outputs": [
    {
     "name": "stdout",
     "output_type": "stream",
     "text": [
      "0.7289669861554846\n"
     ]
    }
   ],
   "source": [
    "logistic_regression =  reg.LogisticRegression()\n",
    "logistic_regression.fit(X_train,y_train,number_of_epochs=1000,learning_rate=0.01)\n",
    "y_pred = logistic_regression.predict(X_train)\n",
    "accuracy_score(y_train, y_pred)\n",
    "\n",
    "count_0 = np.sum(np.array([1 if yi == 0 else 0 for yi in y_train]))\n",
    "count_1 = np.sum(np.array([1 if yi == 1 else 0 for yi in y_train]))\n",
    "print(count_0/(count_1+count_0))"
   ],
   "metadata": {
    "collapsed": false,
    "pycharm": {
     "name": "#%%\n"
    }
   }
  },
  {
   "cell_type": "code",
   "execution_count": 188,
   "outputs": [
    {
     "data": {
      "text/plain": "0.7501774308019872"
     },
     "execution_count": 188,
     "metadata": {},
     "output_type": "execute_result"
    }
   ],
   "source": [
    "accuracy_score(y_test, logistic_regression.predict(X_test))"
   ],
   "metadata": {
    "collapsed": false,
    "pycharm": {
     "name": "#%%\n"
    }
   }
  },
  {
   "cell_type": "code",
   "execution_count": 188,
   "outputs": [],
   "source": [],
   "metadata": {
    "collapsed": false,
    "pycharm": {
     "name": "#%%\n"
    }
   }
  }
 ],
 "metadata": {
  "kernelspec": {
   "display_name": "Python 3",
   "language": "python",
   "name": "python3"
  },
  "language_info": {
   "codemirror_mode": {
    "name": "ipython",
    "version": 2
   },
   "file_extension": ".py",
   "mimetype": "text/x-python",
   "name": "python",
   "nbconvert_exporter": "python",
   "pygments_lexer": "ipython2",
   "version": "2.7.6"
  }
 },
 "nbformat": 4,
 "nbformat_minor": 0
}