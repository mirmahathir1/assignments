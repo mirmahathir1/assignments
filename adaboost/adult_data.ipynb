{
 "cells": [
  {
   "cell_type": "code",
   "execution_count": 85,
   "metadata": {
    "collapsed": true
   },
   "outputs": [],
   "source": [
    "import pandas as pd\n",
    "from io import StringIO\n",
    "from sklearn.feature_selection import mutual_info_classif\n",
    "from sklearn.preprocessing import StandardScaler"
   ]
  },
  {
   "cell_type": "code",
   "execution_count": 79,
   "outputs": [],
   "source": [
    "column_count = 50"
   ],
   "metadata": {
    "collapsed": false,
    "pycharm": {
     "name": "#%%\n"
    }
   }
  },
  {
   "cell_type": "code",
   "execution_count": null,
   "outputs": [],
   "source": [
    "data_file = open('data/adult/adult.data',mode='r')\n",
    "whole_csv = data_file.read()\n",
    "# the dataset consists of abundant useless whitespaces\n",
    "whole_csv = whole_csv.replace(' ','')\n",
    "data_file.close()"
   ],
   "metadata": {
    "collapsed": false,
    "pycharm": {
     "name": "#%%\n"
    }
   }
  },
  {
   "cell_type": "code",
   "execution_count": 29,
   "outputs": [
    {
     "data": {
      "text/plain": "   age         workclass  fnlwgt  education  education-num  \\\n0   39         State-gov   77516  Bachelors             13   \n1   50  Self-emp-not-inc   83311  Bachelors             13   \n2   38           Private  215646    HS-grad              9   \n3   53           Private  234721       11th              7   \n4   28           Private  338409  Bachelors             13   \n\n       marital-status         occupation   relationship   race     sex  \\\n0       Never-married       Adm-clerical  Not-in-family  White    Male   \n1  Married-civ-spouse    Exec-managerial        Husband  White    Male   \n2            Divorced  Handlers-cleaners  Not-in-family  White    Male   \n3  Married-civ-spouse  Handlers-cleaners        Husband  Black    Male   \n4  Married-civ-spouse     Prof-specialty           Wife  Black  Female   \n\n   capital-gain  capital-loss  hours-per-week native-country salary  \n0          2174             0              40  United-States  <=50K  \n1             0             0              13  United-States  <=50K  \n2             0             0              40  United-States  <=50K  \n3             0             0              40  United-States  <=50K  \n4             0             0              40           Cuba  <=50K  ",
      "text/html": "<div>\n<style scoped>\n    .dataframe tbody tr th:only-of-type {\n        vertical-align: middle;\n    }\n\n    .dataframe tbody tr th {\n        vertical-align: top;\n    }\n\n    .dataframe thead th {\n        text-align: right;\n    }\n</style>\n<table border=\"1\" class=\"dataframe\">\n  <thead>\n    <tr style=\"text-align: right;\">\n      <th></th>\n      <th>age</th>\n      <th>workclass</th>\n      <th>fnlwgt</th>\n      <th>education</th>\n      <th>education-num</th>\n      <th>marital-status</th>\n      <th>occupation</th>\n      <th>relationship</th>\n      <th>race</th>\n      <th>sex</th>\n      <th>capital-gain</th>\n      <th>capital-loss</th>\n      <th>hours-per-week</th>\n      <th>native-country</th>\n      <th>salary</th>\n    </tr>\n  </thead>\n  <tbody>\n    <tr>\n      <th>0</th>\n      <td>39</td>\n      <td>State-gov</td>\n      <td>77516</td>\n      <td>Bachelors</td>\n      <td>13</td>\n      <td>Never-married</td>\n      <td>Adm-clerical</td>\n      <td>Not-in-family</td>\n      <td>White</td>\n      <td>Male</td>\n      <td>2174</td>\n      <td>0</td>\n      <td>40</td>\n      <td>United-States</td>\n      <td>&lt;=50K</td>\n    </tr>\n    <tr>\n      <th>1</th>\n      <td>50</td>\n      <td>Self-emp-not-inc</td>\n      <td>83311</td>\n      <td>Bachelors</td>\n      <td>13</td>\n      <td>Married-civ-spouse</td>\n      <td>Exec-managerial</td>\n      <td>Husband</td>\n      <td>White</td>\n      <td>Male</td>\n      <td>0</td>\n      <td>0</td>\n      <td>13</td>\n      <td>United-States</td>\n      <td>&lt;=50K</td>\n    </tr>\n    <tr>\n      <th>2</th>\n      <td>38</td>\n      <td>Private</td>\n      <td>215646</td>\n      <td>HS-grad</td>\n      <td>9</td>\n      <td>Divorced</td>\n      <td>Handlers-cleaners</td>\n      <td>Not-in-family</td>\n      <td>White</td>\n      <td>Male</td>\n      <td>0</td>\n      <td>0</td>\n      <td>40</td>\n      <td>United-States</td>\n      <td>&lt;=50K</td>\n    </tr>\n    <tr>\n      <th>3</th>\n      <td>53</td>\n      <td>Private</td>\n      <td>234721</td>\n      <td>11th</td>\n      <td>7</td>\n      <td>Married-civ-spouse</td>\n      <td>Handlers-cleaners</td>\n      <td>Husband</td>\n      <td>Black</td>\n      <td>Male</td>\n      <td>0</td>\n      <td>0</td>\n      <td>40</td>\n      <td>United-States</td>\n      <td>&lt;=50K</td>\n    </tr>\n    <tr>\n      <th>4</th>\n      <td>28</td>\n      <td>Private</td>\n      <td>338409</td>\n      <td>Bachelors</td>\n      <td>13</td>\n      <td>Married-civ-spouse</td>\n      <td>Prof-specialty</td>\n      <td>Wife</td>\n      <td>Black</td>\n      <td>Female</td>\n      <td>0</td>\n      <td>0</td>\n      <td>40</td>\n      <td>Cuba</td>\n      <td>&lt;=50K</td>\n    </tr>\n  </tbody>\n</table>\n</div>"
     },
     "execution_count": 29,
     "metadata": {},
     "output_type": "execute_result"
    }
   ],
   "source": [
    "column_names = [\"age\",\"workclass\",\"fnlwgt\",\"education\",\"education-num\",\"marital-status\",\"occupation\",\"relationship\",\"race\",\"sex\",\"capital-gain\",\"capital-loss\",\"hours-per-week\",\"native-country\",\"salary\"]\n",
    "dataframe = pd.read_csv(StringIO(whole_csv), names=column_names)\n",
    "dataframe.head(5)"
   ],
   "metadata": {
    "collapsed": false,
    "pycharm": {
     "name": "#%%\n"
    }
   }
  },
  {
   "cell_type": "markdown",
   "source": [
    "## workclass analysis"
   ],
   "metadata": {
    "collapsed": false,
    "pycharm": {
     "name": "#%% md\n"
    }
   }
  },
  {
   "cell_type": "code",
   "execution_count": 31,
   "outputs": [
    {
     "name": "stdout",
     "output_type": "stream",
     "text": [
      "max class: \n",
      "workclass    Without-pay\n",
      "counts             22696\n",
      "dtype: object\n"
     ]
    },
    {
     "data": {
      "text/plain": "          workclass  counts\n0                 ?    1836\n1       Federal-gov     960\n2         Local-gov    2093\n3      Never-worked       7\n4           Private   22696\n5      Self-emp-inc    1116\n6  Self-emp-not-inc    2541\n7         State-gov    1298\n8       Without-pay      14",
      "text/html": "<div>\n<style scoped>\n    .dataframe tbody tr th:only-of-type {\n        vertical-align: middle;\n    }\n\n    .dataframe tbody tr th {\n        vertical-align: top;\n    }\n\n    .dataframe thead th {\n        text-align: right;\n    }\n</style>\n<table border=\"1\" class=\"dataframe\">\n  <thead>\n    <tr style=\"text-align: right;\">\n      <th></th>\n      <th>workclass</th>\n      <th>counts</th>\n    </tr>\n  </thead>\n  <tbody>\n    <tr>\n      <th>0</th>\n      <td>?</td>\n      <td>1836</td>\n    </tr>\n    <tr>\n      <th>1</th>\n      <td>Federal-gov</td>\n      <td>960</td>\n    </tr>\n    <tr>\n      <th>2</th>\n      <td>Local-gov</td>\n      <td>2093</td>\n    </tr>\n    <tr>\n      <th>3</th>\n      <td>Never-worked</td>\n      <td>7</td>\n    </tr>\n    <tr>\n      <th>4</th>\n      <td>Private</td>\n      <td>22696</td>\n    </tr>\n    <tr>\n      <th>5</th>\n      <td>Self-emp-inc</td>\n      <td>1116</td>\n    </tr>\n    <tr>\n      <th>6</th>\n      <td>Self-emp-not-inc</td>\n      <td>2541</td>\n    </tr>\n    <tr>\n      <th>7</th>\n      <td>State-gov</td>\n      <td>1298</td>\n    </tr>\n    <tr>\n      <th>8</th>\n      <td>Without-pay</td>\n      <td>14</td>\n    </tr>\n  </tbody>\n</table>\n</div>"
     },
     "execution_count": 31,
     "metadata": {},
     "output_type": "execute_result"
    }
   ],
   "source": [
    "dataframe.groupby(['workclass']).size().reset_index(name='counts')"
   ],
   "metadata": {
    "collapsed": false,
    "pycharm": {
     "name": "#%%\n"
    }
   }
  },
  {
   "cell_type": "markdown",
   "source": [
    "## workclass processing"
   ],
   "metadata": {
    "collapsed": false,
    "pycharm": {
     "name": "#%% md\n"
    }
   }
  },
  {
   "cell_type": "code",
   "execution_count": 33,
   "outputs": [
    {
     "data": {
      "text/plain": "          workclass  counts\n0       Federal-gov     960\n1         Local-gov    2093\n2      Never-worked       7\n3           Private   22696\n4      Self-emp-inc    1116\n5  Self-emp-not-inc    2541\n6         State-gov    1298\n7               UNK    1836\n8       Without-pay      14",
      "text/html": "<div>\n<style scoped>\n    .dataframe tbody tr th:only-of-type {\n        vertical-align: middle;\n    }\n\n    .dataframe tbody tr th {\n        vertical-align: top;\n    }\n\n    .dataframe thead th {\n        text-align: right;\n    }\n</style>\n<table border=\"1\" class=\"dataframe\">\n  <thead>\n    <tr style=\"text-align: right;\">\n      <th></th>\n      <th>workclass</th>\n      <th>counts</th>\n    </tr>\n  </thead>\n  <tbody>\n    <tr>\n      <th>0</th>\n      <td>Federal-gov</td>\n      <td>960</td>\n    </tr>\n    <tr>\n      <th>1</th>\n      <td>Local-gov</td>\n      <td>2093</td>\n    </tr>\n    <tr>\n      <th>2</th>\n      <td>Never-worked</td>\n      <td>7</td>\n    </tr>\n    <tr>\n      <th>3</th>\n      <td>Private</td>\n      <td>22696</td>\n    </tr>\n    <tr>\n      <th>4</th>\n      <td>Self-emp-inc</td>\n      <td>1116</td>\n    </tr>\n    <tr>\n      <th>5</th>\n      <td>Self-emp-not-inc</td>\n      <td>2541</td>\n    </tr>\n    <tr>\n      <th>6</th>\n      <td>State-gov</td>\n      <td>1298</td>\n    </tr>\n    <tr>\n      <th>7</th>\n      <td>UNK</td>\n      <td>1836</td>\n    </tr>\n    <tr>\n      <th>8</th>\n      <td>Without-pay</td>\n      <td>14</td>\n    </tr>\n  </tbody>\n</table>\n</div>"
     },
     "execution_count": 33,
     "metadata": {},
     "output_type": "execute_result"
    }
   ],
   "source": [
    "dataframe['workclass'] = dataframe['workclass'].replace('?', 'UNK')\n",
    "dataframe.groupby(['workclass']).size().reset_index(name='counts')"
   ],
   "metadata": {
    "collapsed": false,
    "pycharm": {
     "name": "#%%\n"
    }
   }
  },
  {
   "cell_type": "markdown",
   "source": [
    "## fnlwgt analysis"
   ],
   "metadata": {
    "collapsed": false,
    "pycharm": {
     "name": "#%% md\n"
    }
   }
  },
  {
   "cell_type": "code",
   "execution_count": 36,
   "outputs": [
    {
     "data": {
      "text/plain": "2"
     },
     "execution_count": 36,
     "metadata": {},
     "output_type": "execute_result"
    }
   ],
   "source": [
    "dataframe['fnlwgt'].describe()"
   ],
   "metadata": {
    "collapsed": false,
    "pycharm": {
     "name": "#%%\n"
    }
   }
  },
  {
   "cell_type": "code",
   "execution_count": 37,
   "outputs": [],
   "source": [
    "for i in range(len(dataframe['fnlwgt'])):\n",
    "    try:\n",
    "        float(dataframe['fnlwgt'][i])\n",
    "    except ValueError as e:\n",
    "        print(f\"found missing value {dataframe['fnlwgt'][i]} in fnlwgt column, {i} row\")"
   ],
   "metadata": {
    "collapsed": false,
    "pycharm": {
     "name": "#%%\n"
    }
   }
  },
  {
   "cell_type": "markdown",
   "source": [
    "## education analysis"
   ],
   "metadata": {
    "collapsed": false,
    "pycharm": {
     "name": "#%% md\n"
    }
   }
  },
  {
   "cell_type": "code",
   "execution_count": 39,
   "outputs": [
    {
     "data": {
      "text/plain": "       education  counts\n0           10th     933\n1           11th    1175\n2           12th     433\n3        1st-4th     168\n4        5th-6th     333\n5        7th-8th     646\n6            9th     514\n7     Assoc-acdm    1067\n8      Assoc-voc    1382\n9      Bachelors    5355\n10     Doctorate     413\n11       HS-grad   10501\n12       Masters    1723\n13     Preschool      51\n14   Prof-school     576\n15  Some-college    7291",
      "text/html": "<div>\n<style scoped>\n    .dataframe tbody tr th:only-of-type {\n        vertical-align: middle;\n    }\n\n    .dataframe tbody tr th {\n        vertical-align: top;\n    }\n\n    .dataframe thead th {\n        text-align: right;\n    }\n</style>\n<table border=\"1\" class=\"dataframe\">\n  <thead>\n    <tr style=\"text-align: right;\">\n      <th></th>\n      <th>education</th>\n      <th>counts</th>\n    </tr>\n  </thead>\n  <tbody>\n    <tr>\n      <th>0</th>\n      <td>10th</td>\n      <td>933</td>\n    </tr>\n    <tr>\n      <th>1</th>\n      <td>11th</td>\n      <td>1175</td>\n    </tr>\n    <tr>\n      <th>2</th>\n      <td>12th</td>\n      <td>433</td>\n    </tr>\n    <tr>\n      <th>3</th>\n      <td>1st-4th</td>\n      <td>168</td>\n    </tr>\n    <tr>\n      <th>4</th>\n      <td>5th-6th</td>\n      <td>333</td>\n    </tr>\n    <tr>\n      <th>5</th>\n      <td>7th-8th</td>\n      <td>646</td>\n    </tr>\n    <tr>\n      <th>6</th>\n      <td>9th</td>\n      <td>514</td>\n    </tr>\n    <tr>\n      <th>7</th>\n      <td>Assoc-acdm</td>\n      <td>1067</td>\n    </tr>\n    <tr>\n      <th>8</th>\n      <td>Assoc-voc</td>\n      <td>1382</td>\n    </tr>\n    <tr>\n      <th>9</th>\n      <td>Bachelors</td>\n      <td>5355</td>\n    </tr>\n    <tr>\n      <th>10</th>\n      <td>Doctorate</td>\n      <td>413</td>\n    </tr>\n    <tr>\n      <th>11</th>\n      <td>HS-grad</td>\n      <td>10501</td>\n    </tr>\n    <tr>\n      <th>12</th>\n      <td>Masters</td>\n      <td>1723</td>\n    </tr>\n    <tr>\n      <th>13</th>\n      <td>Preschool</td>\n      <td>51</td>\n    </tr>\n    <tr>\n      <th>14</th>\n      <td>Prof-school</td>\n      <td>576</td>\n    </tr>\n    <tr>\n      <th>15</th>\n      <td>Some-college</td>\n      <td>7291</td>\n    </tr>\n  </tbody>\n</table>\n</div>"
     },
     "execution_count": 39,
     "metadata": {},
     "output_type": "execute_result"
    }
   ],
   "source": [
    "dataframe.groupby(['education']).size().reset_index(name='counts')"
   ],
   "metadata": {
    "collapsed": false,
    "pycharm": {
     "name": "#%%\n"
    }
   }
  },
  {
   "cell_type": "markdown",
   "source": [
    "## education-num analysis"
   ],
   "metadata": {
    "collapsed": false,
    "pycharm": {
     "name": "#%% md\n"
    }
   }
  },
  {
   "cell_type": "code",
   "execution_count": 40,
   "outputs": [
    {
     "data": {
      "text/plain": "count    32561.000000\nmean        10.080679\nstd          2.572720\nmin          1.000000\n25%          9.000000\n50%         10.000000\n75%         12.000000\nmax         16.000000\nName: education-num, dtype: float64"
     },
     "execution_count": 40,
     "metadata": {},
     "output_type": "execute_result"
    }
   ],
   "source": [
    "dataframe['education-num'].describe()"
   ],
   "metadata": {
    "collapsed": false,
    "pycharm": {
     "name": "#%%\n"
    }
   }
  },
  {
   "cell_type": "code",
   "execution_count": 41,
   "outputs": [],
   "source": [
    "for i in range(len(dataframe['education-num'])):\n",
    "    try:\n",
    "        float(dataframe['education-num'][i])\n",
    "    except ValueError as e:\n",
    "        print(f\"found missing value {dataframe['education-num'][i]} in education-num column, {i} row\")"
   ],
   "metadata": {
    "collapsed": false,
    "pycharm": {
     "name": "#%%\n"
    }
   }
  },
  {
   "cell_type": "markdown",
   "source": [
    "## marital-status analysis"
   ],
   "metadata": {
    "collapsed": false,
    "pycharm": {
     "name": "#%% md\n"
    }
   }
  },
  {
   "cell_type": "code",
   "execution_count": 42,
   "outputs": [
    {
     "data": {
      "text/plain": "          marital-status  counts\n0               Divorced    4443\n1      Married-AF-spouse      23\n2     Married-civ-spouse   14976\n3  Married-spouse-absent     418\n4          Never-married   10683\n5              Separated    1025\n6                Widowed     993",
      "text/html": "<div>\n<style scoped>\n    .dataframe tbody tr th:only-of-type {\n        vertical-align: middle;\n    }\n\n    .dataframe tbody tr th {\n        vertical-align: top;\n    }\n\n    .dataframe thead th {\n        text-align: right;\n    }\n</style>\n<table border=\"1\" class=\"dataframe\">\n  <thead>\n    <tr style=\"text-align: right;\">\n      <th></th>\n      <th>marital-status</th>\n      <th>counts</th>\n    </tr>\n  </thead>\n  <tbody>\n    <tr>\n      <th>0</th>\n      <td>Divorced</td>\n      <td>4443</td>\n    </tr>\n    <tr>\n      <th>1</th>\n      <td>Married-AF-spouse</td>\n      <td>23</td>\n    </tr>\n    <tr>\n      <th>2</th>\n      <td>Married-civ-spouse</td>\n      <td>14976</td>\n    </tr>\n    <tr>\n      <th>3</th>\n      <td>Married-spouse-absent</td>\n      <td>418</td>\n    </tr>\n    <tr>\n      <th>4</th>\n      <td>Never-married</td>\n      <td>10683</td>\n    </tr>\n    <tr>\n      <th>5</th>\n      <td>Separated</td>\n      <td>1025</td>\n    </tr>\n    <tr>\n      <th>6</th>\n      <td>Widowed</td>\n      <td>993</td>\n    </tr>\n  </tbody>\n</table>\n</div>"
     },
     "execution_count": 42,
     "metadata": {},
     "output_type": "execute_result"
    }
   ],
   "source": [
    "dataframe.groupby(['marital-status']).size().reset_index(name='counts')"
   ],
   "metadata": {
    "collapsed": false,
    "pycharm": {
     "name": "#%%\n"
    }
   }
  },
  {
   "cell_type": "markdown",
   "source": [
    "## occupation analysis"
   ],
   "metadata": {
    "collapsed": false,
    "pycharm": {
     "name": "#%% md\n"
    }
   }
  },
  {
   "cell_type": "code",
   "execution_count": 43,
   "outputs": [
    {
     "data": {
      "text/plain": "           occupation  counts\n0                   ?    1843\n1        Adm-clerical    3770\n2        Armed-Forces       9\n3        Craft-repair    4099\n4     Exec-managerial    4066\n5     Farming-fishing     994\n6   Handlers-cleaners    1370\n7   Machine-op-inspct    2002\n8       Other-service    3295\n9     Priv-house-serv     149\n10     Prof-specialty    4140\n11    Protective-serv     649\n12              Sales    3650\n13       Tech-support     928\n14   Transport-moving    1597",
      "text/html": "<div>\n<style scoped>\n    .dataframe tbody tr th:only-of-type {\n        vertical-align: middle;\n    }\n\n    .dataframe tbody tr th {\n        vertical-align: top;\n    }\n\n    .dataframe thead th {\n        text-align: right;\n    }\n</style>\n<table border=\"1\" class=\"dataframe\">\n  <thead>\n    <tr style=\"text-align: right;\">\n      <th></th>\n      <th>occupation</th>\n      <th>counts</th>\n    </tr>\n  </thead>\n  <tbody>\n    <tr>\n      <th>0</th>\n      <td>?</td>\n      <td>1843</td>\n    </tr>\n    <tr>\n      <th>1</th>\n      <td>Adm-clerical</td>\n      <td>3770</td>\n    </tr>\n    <tr>\n      <th>2</th>\n      <td>Armed-Forces</td>\n      <td>9</td>\n    </tr>\n    <tr>\n      <th>3</th>\n      <td>Craft-repair</td>\n      <td>4099</td>\n    </tr>\n    <tr>\n      <th>4</th>\n      <td>Exec-managerial</td>\n      <td>4066</td>\n    </tr>\n    <tr>\n      <th>5</th>\n      <td>Farming-fishing</td>\n      <td>994</td>\n    </tr>\n    <tr>\n      <th>6</th>\n      <td>Handlers-cleaners</td>\n      <td>1370</td>\n    </tr>\n    <tr>\n      <th>7</th>\n      <td>Machine-op-inspct</td>\n      <td>2002</td>\n    </tr>\n    <tr>\n      <th>8</th>\n      <td>Other-service</td>\n      <td>3295</td>\n    </tr>\n    <tr>\n      <th>9</th>\n      <td>Priv-house-serv</td>\n      <td>149</td>\n    </tr>\n    <tr>\n      <th>10</th>\n      <td>Prof-specialty</td>\n      <td>4140</td>\n    </tr>\n    <tr>\n      <th>11</th>\n      <td>Protective-serv</td>\n      <td>649</td>\n    </tr>\n    <tr>\n      <th>12</th>\n      <td>Sales</td>\n      <td>3650</td>\n    </tr>\n    <tr>\n      <th>13</th>\n      <td>Tech-support</td>\n      <td>928</td>\n    </tr>\n    <tr>\n      <th>14</th>\n      <td>Transport-moving</td>\n      <td>1597</td>\n    </tr>\n  </tbody>\n</table>\n</div>"
     },
     "execution_count": 43,
     "metadata": {},
     "output_type": "execute_result"
    }
   ],
   "source": [
    "dataframe.groupby(['occupation']).size().reset_index(name='counts')"
   ],
   "metadata": {
    "collapsed": false,
    "pycharm": {
     "name": "#%%\n"
    }
   }
  },
  {
   "cell_type": "markdown",
   "source": [
    "## occupation processing"
   ],
   "metadata": {
    "collapsed": false,
    "pycharm": {
     "name": "#%% md\n"
    }
   }
  },
  {
   "cell_type": "code",
   "execution_count": 44,
   "outputs": [
    {
     "data": {
      "text/plain": "           occupation  counts\n0        Adm-clerical    3770\n1        Armed-Forces       9\n2        Craft-repair    4099\n3     Exec-managerial    4066\n4     Farming-fishing     994\n5   Handlers-cleaners    1370\n6   Machine-op-inspct    2002\n7       Other-service    3295\n8     Priv-house-serv     149\n9      Prof-specialty    4140\n10    Protective-serv     649\n11              Sales    3650\n12       Tech-support     928\n13   Transport-moving    1597\n14                UNK    1843",
      "text/html": "<div>\n<style scoped>\n    .dataframe tbody tr th:only-of-type {\n        vertical-align: middle;\n    }\n\n    .dataframe tbody tr th {\n        vertical-align: top;\n    }\n\n    .dataframe thead th {\n        text-align: right;\n    }\n</style>\n<table border=\"1\" class=\"dataframe\">\n  <thead>\n    <tr style=\"text-align: right;\">\n      <th></th>\n      <th>occupation</th>\n      <th>counts</th>\n    </tr>\n  </thead>\n  <tbody>\n    <tr>\n      <th>0</th>\n      <td>Adm-clerical</td>\n      <td>3770</td>\n    </tr>\n    <tr>\n      <th>1</th>\n      <td>Armed-Forces</td>\n      <td>9</td>\n    </tr>\n    <tr>\n      <th>2</th>\n      <td>Craft-repair</td>\n      <td>4099</td>\n    </tr>\n    <tr>\n      <th>3</th>\n      <td>Exec-managerial</td>\n      <td>4066</td>\n    </tr>\n    <tr>\n      <th>4</th>\n      <td>Farming-fishing</td>\n      <td>994</td>\n    </tr>\n    <tr>\n      <th>5</th>\n      <td>Handlers-cleaners</td>\n      <td>1370</td>\n    </tr>\n    <tr>\n      <th>6</th>\n      <td>Machine-op-inspct</td>\n      <td>2002</td>\n    </tr>\n    <tr>\n      <th>7</th>\n      <td>Other-service</td>\n      <td>3295</td>\n    </tr>\n    <tr>\n      <th>8</th>\n      <td>Priv-house-serv</td>\n      <td>149</td>\n    </tr>\n    <tr>\n      <th>9</th>\n      <td>Prof-specialty</td>\n      <td>4140</td>\n    </tr>\n    <tr>\n      <th>10</th>\n      <td>Protective-serv</td>\n      <td>649</td>\n    </tr>\n    <tr>\n      <th>11</th>\n      <td>Sales</td>\n      <td>3650</td>\n    </tr>\n    <tr>\n      <th>12</th>\n      <td>Tech-support</td>\n      <td>928</td>\n    </tr>\n    <tr>\n      <th>13</th>\n      <td>Transport-moving</td>\n      <td>1597</td>\n    </tr>\n    <tr>\n      <th>14</th>\n      <td>UNK</td>\n      <td>1843</td>\n    </tr>\n  </tbody>\n</table>\n</div>"
     },
     "execution_count": 44,
     "metadata": {},
     "output_type": "execute_result"
    }
   ],
   "source": [
    "dataframe['occupation'] = dataframe['occupation'].replace('?', 'UNK')\n",
    "dataframe.groupby(['occupation']).size().reset_index(name='counts')"
   ],
   "metadata": {
    "collapsed": false,
    "pycharm": {
     "name": "#%%\n"
    }
   }
  },
  {
   "cell_type": "markdown",
   "source": [
    "## relationship analysis"
   ],
   "metadata": {
    "collapsed": false,
    "pycharm": {
     "name": "#%% md\n"
    }
   }
  },
  {
   "cell_type": "code",
   "execution_count": 45,
   "outputs": [
    {
     "data": {
      "text/plain": "     relationship  counts\n0         Husband   13193\n1   Not-in-family    8305\n2  Other-relative     981\n3       Own-child    5068\n4       Unmarried    3446\n5            Wife    1568",
      "text/html": "<div>\n<style scoped>\n    .dataframe tbody tr th:only-of-type {\n        vertical-align: middle;\n    }\n\n    .dataframe tbody tr th {\n        vertical-align: top;\n    }\n\n    .dataframe thead th {\n        text-align: right;\n    }\n</style>\n<table border=\"1\" class=\"dataframe\">\n  <thead>\n    <tr style=\"text-align: right;\">\n      <th></th>\n      <th>relationship</th>\n      <th>counts</th>\n    </tr>\n  </thead>\n  <tbody>\n    <tr>\n      <th>0</th>\n      <td>Husband</td>\n      <td>13193</td>\n    </tr>\n    <tr>\n      <th>1</th>\n      <td>Not-in-family</td>\n      <td>8305</td>\n    </tr>\n    <tr>\n      <th>2</th>\n      <td>Other-relative</td>\n      <td>981</td>\n    </tr>\n    <tr>\n      <th>3</th>\n      <td>Own-child</td>\n      <td>5068</td>\n    </tr>\n    <tr>\n      <th>4</th>\n      <td>Unmarried</td>\n      <td>3446</td>\n    </tr>\n    <tr>\n      <th>5</th>\n      <td>Wife</td>\n      <td>1568</td>\n    </tr>\n  </tbody>\n</table>\n</div>"
     },
     "execution_count": 45,
     "metadata": {},
     "output_type": "execute_result"
    }
   ],
   "source": [
    "dataframe.groupby(['relationship']).size().reset_index(name='counts')"
   ],
   "metadata": {
    "collapsed": false,
    "pycharm": {
     "name": "#%%\n"
    }
   }
  },
  {
   "cell_type": "code",
   "execution_count": 46,
   "outputs": [
    {
     "data": {
      "text/plain": "                 race  counts\n0  Amer-Indian-Eskimo     311\n1  Asian-Pac-Islander    1039\n2               Black    3124\n3               Other     271\n4               White   27816",
      "text/html": "<div>\n<style scoped>\n    .dataframe tbody tr th:only-of-type {\n        vertical-align: middle;\n    }\n\n    .dataframe tbody tr th {\n        vertical-align: top;\n    }\n\n    .dataframe thead th {\n        text-align: right;\n    }\n</style>\n<table border=\"1\" class=\"dataframe\">\n  <thead>\n    <tr style=\"text-align: right;\">\n      <th></th>\n      <th>race</th>\n      <th>counts</th>\n    </tr>\n  </thead>\n  <tbody>\n    <tr>\n      <th>0</th>\n      <td>Amer-Indian-Eskimo</td>\n      <td>311</td>\n    </tr>\n    <tr>\n      <th>1</th>\n      <td>Asian-Pac-Islander</td>\n      <td>1039</td>\n    </tr>\n    <tr>\n      <th>2</th>\n      <td>Black</td>\n      <td>3124</td>\n    </tr>\n    <tr>\n      <th>3</th>\n      <td>Other</td>\n      <td>271</td>\n    </tr>\n    <tr>\n      <th>4</th>\n      <td>White</td>\n      <td>27816</td>\n    </tr>\n  </tbody>\n</table>\n</div>"
     },
     "execution_count": 46,
     "metadata": {},
     "output_type": "execute_result"
    }
   ],
   "source": [
    "## race analysis\n",
    "dataframe.groupby(['race']).size().reset_index(name='counts')"
   ],
   "metadata": {
    "collapsed": false,
    "pycharm": {
     "name": "#%%\n"
    }
   }
  },
  {
   "cell_type": "markdown",
   "source": [
    "## sex analysis"
   ],
   "metadata": {
    "collapsed": false,
    "pycharm": {
     "name": "#%% md\n"
    }
   }
  },
  {
   "cell_type": "code",
   "execution_count": 48,
   "outputs": [
    {
     "data": {
      "text/plain": "      sex  counts\n0  Female   10771\n1    Male   21790",
      "text/html": "<div>\n<style scoped>\n    .dataframe tbody tr th:only-of-type {\n        vertical-align: middle;\n    }\n\n    .dataframe tbody tr th {\n        vertical-align: top;\n    }\n\n    .dataframe thead th {\n        text-align: right;\n    }\n</style>\n<table border=\"1\" class=\"dataframe\">\n  <thead>\n    <tr style=\"text-align: right;\">\n      <th></th>\n      <th>sex</th>\n      <th>counts</th>\n    </tr>\n  </thead>\n  <tbody>\n    <tr>\n      <th>0</th>\n      <td>Female</td>\n      <td>10771</td>\n    </tr>\n    <tr>\n      <th>1</th>\n      <td>Male</td>\n      <td>21790</td>\n    </tr>\n  </tbody>\n</table>\n</div>"
     },
     "execution_count": 48,
     "metadata": {},
     "output_type": "execute_result"
    }
   ],
   "source": [
    "dataframe.groupby(['sex']).size().reset_index(name='counts')"
   ],
   "metadata": {
    "collapsed": false,
    "pycharm": {
     "name": "#%%\n"
    }
   }
  },
  {
   "cell_type": "markdown",
   "source": [
    "## capital-gain analysis"
   ],
   "metadata": {
    "collapsed": false,
    "pycharm": {
     "name": "#%% md\n"
    }
   }
  },
  {
   "cell_type": "code",
   "execution_count": 49,
   "outputs": [
    {
     "data": {
      "text/plain": "count    32561.000000\nmean      1077.648844\nstd       7385.292085\nmin          0.000000\n25%          0.000000\n50%          0.000000\n75%          0.000000\nmax      99999.000000\nName: capital-gain, dtype: float64"
     },
     "execution_count": 49,
     "metadata": {},
     "output_type": "execute_result"
    }
   ],
   "source": [
    "dataframe['capital-gain'].describe()"
   ],
   "metadata": {
    "collapsed": false,
    "pycharm": {
     "name": "#%%\n"
    }
   }
  },
  {
   "cell_type": "code",
   "execution_count": 52,
   "outputs": [],
   "source": [
    "col = 'capital-gain'\n",
    "for i in range(len(dataframe[col])):\n",
    "    try:\n",
    "        float(dataframe[col][i])\n",
    "    except ValueError as e:\n",
    "        print(f\"found missing value {dataframe[col][i]} in {col} column, {i} row\")"
   ],
   "metadata": {
    "collapsed": false,
    "pycharm": {
     "name": "#%%\n"
    }
   }
  },
  {
   "cell_type": "markdown",
   "source": [
    "## capital-loss analysis"
   ],
   "metadata": {
    "collapsed": false,
    "pycharm": {
     "name": "#%% md\n"
    }
   }
  },
  {
   "cell_type": "code",
   "execution_count": 53,
   "outputs": [
    {
     "data": {
      "text/plain": "count    32561.000000\nmean        87.303830\nstd        402.960219\nmin          0.000000\n25%          0.000000\n50%          0.000000\n75%          0.000000\nmax       4356.000000\nName: capital-loss, dtype: float64"
     },
     "execution_count": 53,
     "metadata": {},
     "output_type": "execute_result"
    }
   ],
   "source": [
    "dataframe['capital-loss'].describe()"
   ],
   "metadata": {
    "collapsed": false,
    "pycharm": {
     "name": "#%%\n"
    }
   }
  },
  {
   "cell_type": "code",
   "execution_count": 54,
   "outputs": [],
   "source": [
    "col = 'capital-loss'\n",
    "for i in range(len(dataframe[col])):\n",
    "    try:\n",
    "        float(dataframe[col][i])\n",
    "    except ValueError as e:\n",
    "        print(f\"found missing value {dataframe[col][i]} in {col} column, {i} row\")"
   ],
   "metadata": {
    "collapsed": false,
    "pycharm": {
     "name": "#%%\n"
    }
   }
  },
  {
   "cell_type": "markdown",
   "source": [
    "## hours-per-week analysis"
   ],
   "metadata": {
    "collapsed": false,
    "pycharm": {
     "name": "#%% md\n"
    }
   }
  },
  {
   "cell_type": "code",
   "execution_count": 55,
   "outputs": [
    {
     "data": {
      "text/plain": "count    32561.000000\nmean        40.437456\nstd         12.347429\nmin          1.000000\n25%         40.000000\n50%         40.000000\n75%         45.000000\nmax         99.000000\nName: hours-per-week, dtype: float64"
     },
     "execution_count": 55,
     "metadata": {},
     "output_type": "execute_result"
    }
   ],
   "source": [
    "dataframe['hours-per-week'].describe()"
   ],
   "metadata": {
    "collapsed": false,
    "pycharm": {
     "name": "#%%\n"
    }
   }
  },
  {
   "cell_type": "code",
   "execution_count": 56,
   "outputs": [],
   "source": [
    "col = 'hours-per-week'\n",
    "for i in range(len(dataframe[col])):\n",
    "    try:\n",
    "        float(dataframe[col][i])\n",
    "    except ValueError as e:\n",
    "        print(f\"found missing value {dataframe[col][i]} in {col} column, {i} row\")\n"
   ],
   "metadata": {
    "collapsed": false,
    "pycharm": {
     "name": "#%%\n"
    }
   }
  },
  {
   "cell_type": "markdown",
   "source": [
    "## native-country analysis"
   ],
   "metadata": {
    "collapsed": false,
    "pycharm": {
     "name": "#%% md\n"
    }
   }
  },
  {
   "cell_type": "code",
   "execution_count": 57,
   "outputs": [
    {
     "data": {
      "text/plain": "                native-country  counts\n0                            ?     583\n1                     Cambodia      19\n2                       Canada     121\n3                        China      75\n4                     Columbia      59\n5                         Cuba      95\n6           Dominican-Republic      70\n7                      Ecuador      28\n8                  El-Salvador     106\n9                      England      90\n10                      France      29\n11                     Germany     137\n12                      Greece      29\n13                   Guatemala      64\n14                       Haiti      44\n15          Holand-Netherlands       1\n16                    Honduras      13\n17                        Hong      20\n18                     Hungary      13\n19                       India     100\n20                        Iran      43\n21                     Ireland      24\n22                       Italy      73\n23                     Jamaica      81\n24                       Japan      62\n25                        Laos      18\n26                      Mexico     643\n27                   Nicaragua      34\n28  Outlying-US(Guam-USVI-etc)      14\n29                        Peru      31\n30                 Philippines     198\n31                      Poland      60\n32                    Portugal      37\n33                 Puerto-Rico     114\n34                    Scotland      12\n35                       South      80\n36                      Taiwan      51\n37                    Thailand      18\n38             Trinadad&Tobago      19\n39               United-States   29170\n40                     Vietnam      67\n41                  Yugoslavia      16",
      "text/html": "<div>\n<style scoped>\n    .dataframe tbody tr th:only-of-type {\n        vertical-align: middle;\n    }\n\n    .dataframe tbody tr th {\n        vertical-align: top;\n    }\n\n    .dataframe thead th {\n        text-align: right;\n    }\n</style>\n<table border=\"1\" class=\"dataframe\">\n  <thead>\n    <tr style=\"text-align: right;\">\n      <th></th>\n      <th>native-country</th>\n      <th>counts</th>\n    </tr>\n  </thead>\n  <tbody>\n    <tr>\n      <th>0</th>\n      <td>?</td>\n      <td>583</td>\n    </tr>\n    <tr>\n      <th>1</th>\n      <td>Cambodia</td>\n      <td>19</td>\n    </tr>\n    <tr>\n      <th>2</th>\n      <td>Canada</td>\n      <td>121</td>\n    </tr>\n    <tr>\n      <th>3</th>\n      <td>China</td>\n      <td>75</td>\n    </tr>\n    <tr>\n      <th>4</th>\n      <td>Columbia</td>\n      <td>59</td>\n    </tr>\n    <tr>\n      <th>5</th>\n      <td>Cuba</td>\n      <td>95</td>\n    </tr>\n    <tr>\n      <th>6</th>\n      <td>Dominican-Republic</td>\n      <td>70</td>\n    </tr>\n    <tr>\n      <th>7</th>\n      <td>Ecuador</td>\n      <td>28</td>\n    </tr>\n    <tr>\n      <th>8</th>\n      <td>El-Salvador</td>\n      <td>106</td>\n    </tr>\n    <tr>\n      <th>9</th>\n      <td>England</td>\n      <td>90</td>\n    </tr>\n    <tr>\n      <th>10</th>\n      <td>France</td>\n      <td>29</td>\n    </tr>\n    <tr>\n      <th>11</th>\n      <td>Germany</td>\n      <td>137</td>\n    </tr>\n    <tr>\n      <th>12</th>\n      <td>Greece</td>\n      <td>29</td>\n    </tr>\n    <tr>\n      <th>13</th>\n      <td>Guatemala</td>\n      <td>64</td>\n    </tr>\n    <tr>\n      <th>14</th>\n      <td>Haiti</td>\n      <td>44</td>\n    </tr>\n    <tr>\n      <th>15</th>\n      <td>Holand-Netherlands</td>\n      <td>1</td>\n    </tr>\n    <tr>\n      <th>16</th>\n      <td>Honduras</td>\n      <td>13</td>\n    </tr>\n    <tr>\n      <th>17</th>\n      <td>Hong</td>\n      <td>20</td>\n    </tr>\n    <tr>\n      <th>18</th>\n      <td>Hungary</td>\n      <td>13</td>\n    </tr>\n    <tr>\n      <th>19</th>\n      <td>India</td>\n      <td>100</td>\n    </tr>\n    <tr>\n      <th>20</th>\n      <td>Iran</td>\n      <td>43</td>\n    </tr>\n    <tr>\n      <th>21</th>\n      <td>Ireland</td>\n      <td>24</td>\n    </tr>\n    <tr>\n      <th>22</th>\n      <td>Italy</td>\n      <td>73</td>\n    </tr>\n    <tr>\n      <th>23</th>\n      <td>Jamaica</td>\n      <td>81</td>\n    </tr>\n    <tr>\n      <th>24</th>\n      <td>Japan</td>\n      <td>62</td>\n    </tr>\n    <tr>\n      <th>25</th>\n      <td>Laos</td>\n      <td>18</td>\n    </tr>\n    <tr>\n      <th>26</th>\n      <td>Mexico</td>\n      <td>643</td>\n    </tr>\n    <tr>\n      <th>27</th>\n      <td>Nicaragua</td>\n      <td>34</td>\n    </tr>\n    <tr>\n      <th>28</th>\n      <td>Outlying-US(Guam-USVI-etc)</td>\n      <td>14</td>\n    </tr>\n    <tr>\n      <th>29</th>\n      <td>Peru</td>\n      <td>31</td>\n    </tr>\n    <tr>\n      <th>30</th>\n      <td>Philippines</td>\n      <td>198</td>\n    </tr>\n    <tr>\n      <th>31</th>\n      <td>Poland</td>\n      <td>60</td>\n    </tr>\n    <tr>\n      <th>32</th>\n      <td>Portugal</td>\n      <td>37</td>\n    </tr>\n    <tr>\n      <th>33</th>\n      <td>Puerto-Rico</td>\n      <td>114</td>\n    </tr>\n    <tr>\n      <th>34</th>\n      <td>Scotland</td>\n      <td>12</td>\n    </tr>\n    <tr>\n      <th>35</th>\n      <td>South</td>\n      <td>80</td>\n    </tr>\n    <tr>\n      <th>36</th>\n      <td>Taiwan</td>\n      <td>51</td>\n    </tr>\n    <tr>\n      <th>37</th>\n      <td>Thailand</td>\n      <td>18</td>\n    </tr>\n    <tr>\n      <th>38</th>\n      <td>Trinadad&amp;Tobago</td>\n      <td>19</td>\n    </tr>\n    <tr>\n      <th>39</th>\n      <td>United-States</td>\n      <td>29170</td>\n    </tr>\n    <tr>\n      <th>40</th>\n      <td>Vietnam</td>\n      <td>67</td>\n    </tr>\n    <tr>\n      <th>41</th>\n      <td>Yugoslavia</td>\n      <td>16</td>\n    </tr>\n  </tbody>\n</table>\n</div>"
     },
     "execution_count": 57,
     "metadata": {},
     "output_type": "execute_result"
    }
   ],
   "source": [
    "dataframe.groupby(['native-country']).size().reset_index(name='counts')"
   ],
   "metadata": {
    "collapsed": false,
    "pycharm": {
     "name": "#%%\n"
    }
   }
  },
  {
   "cell_type": "code",
   "execution_count": 58,
   "outputs": [
    {
     "data": {
      "text/plain": "                native-country  counts\n0                     Cambodia      19\n1                       Canada     121\n2                        China      75\n3                     Columbia      59\n4                         Cuba      95\n5           Dominican-Republic      70\n6                      Ecuador      28\n7                  El-Salvador     106\n8                      England      90\n9                       France      29\n10                     Germany     137\n11                      Greece      29\n12                   Guatemala      64\n13                       Haiti      44\n14          Holand-Netherlands       1\n15                    Honduras      13\n16                        Hong      20\n17                     Hungary      13\n18                       India     100\n19                        Iran      43\n20                     Ireland      24\n21                       Italy      73\n22                     Jamaica      81\n23                       Japan      62\n24                        Laos      18\n25                      Mexico     643\n26                   Nicaragua      34\n27  Outlying-US(Guam-USVI-etc)      14\n28                        Peru      31\n29                 Philippines     198\n30                      Poland      60\n31                    Portugal      37\n32                 Puerto-Rico     114\n33                    Scotland      12\n34                       South      80\n35                      Taiwan      51\n36                    Thailand      18\n37             Trinadad&Tobago      19\n38                         UNK     583\n39               United-States   29170\n40                     Vietnam      67\n41                  Yugoslavia      16",
      "text/html": "<div>\n<style scoped>\n    .dataframe tbody tr th:only-of-type {\n        vertical-align: middle;\n    }\n\n    .dataframe tbody tr th {\n        vertical-align: top;\n    }\n\n    .dataframe thead th {\n        text-align: right;\n    }\n</style>\n<table border=\"1\" class=\"dataframe\">\n  <thead>\n    <tr style=\"text-align: right;\">\n      <th></th>\n      <th>native-country</th>\n      <th>counts</th>\n    </tr>\n  </thead>\n  <tbody>\n    <tr>\n      <th>0</th>\n      <td>Cambodia</td>\n      <td>19</td>\n    </tr>\n    <tr>\n      <th>1</th>\n      <td>Canada</td>\n      <td>121</td>\n    </tr>\n    <tr>\n      <th>2</th>\n      <td>China</td>\n      <td>75</td>\n    </tr>\n    <tr>\n      <th>3</th>\n      <td>Columbia</td>\n      <td>59</td>\n    </tr>\n    <tr>\n      <th>4</th>\n      <td>Cuba</td>\n      <td>95</td>\n    </tr>\n    <tr>\n      <th>5</th>\n      <td>Dominican-Republic</td>\n      <td>70</td>\n    </tr>\n    <tr>\n      <th>6</th>\n      <td>Ecuador</td>\n      <td>28</td>\n    </tr>\n    <tr>\n      <th>7</th>\n      <td>El-Salvador</td>\n      <td>106</td>\n    </tr>\n    <tr>\n      <th>8</th>\n      <td>England</td>\n      <td>90</td>\n    </tr>\n    <tr>\n      <th>9</th>\n      <td>France</td>\n      <td>29</td>\n    </tr>\n    <tr>\n      <th>10</th>\n      <td>Germany</td>\n      <td>137</td>\n    </tr>\n    <tr>\n      <th>11</th>\n      <td>Greece</td>\n      <td>29</td>\n    </tr>\n    <tr>\n      <th>12</th>\n      <td>Guatemala</td>\n      <td>64</td>\n    </tr>\n    <tr>\n      <th>13</th>\n      <td>Haiti</td>\n      <td>44</td>\n    </tr>\n    <tr>\n      <th>14</th>\n      <td>Holand-Netherlands</td>\n      <td>1</td>\n    </tr>\n    <tr>\n      <th>15</th>\n      <td>Honduras</td>\n      <td>13</td>\n    </tr>\n    <tr>\n      <th>16</th>\n      <td>Hong</td>\n      <td>20</td>\n    </tr>\n    <tr>\n      <th>17</th>\n      <td>Hungary</td>\n      <td>13</td>\n    </tr>\n    <tr>\n      <th>18</th>\n      <td>India</td>\n      <td>100</td>\n    </tr>\n    <tr>\n      <th>19</th>\n      <td>Iran</td>\n      <td>43</td>\n    </tr>\n    <tr>\n      <th>20</th>\n      <td>Ireland</td>\n      <td>24</td>\n    </tr>\n    <tr>\n      <th>21</th>\n      <td>Italy</td>\n      <td>73</td>\n    </tr>\n    <tr>\n      <th>22</th>\n      <td>Jamaica</td>\n      <td>81</td>\n    </tr>\n    <tr>\n      <th>23</th>\n      <td>Japan</td>\n      <td>62</td>\n    </tr>\n    <tr>\n      <th>24</th>\n      <td>Laos</td>\n      <td>18</td>\n    </tr>\n    <tr>\n      <th>25</th>\n      <td>Mexico</td>\n      <td>643</td>\n    </tr>\n    <tr>\n      <th>26</th>\n      <td>Nicaragua</td>\n      <td>34</td>\n    </tr>\n    <tr>\n      <th>27</th>\n      <td>Outlying-US(Guam-USVI-etc)</td>\n      <td>14</td>\n    </tr>\n    <tr>\n      <th>28</th>\n      <td>Peru</td>\n      <td>31</td>\n    </tr>\n    <tr>\n      <th>29</th>\n      <td>Philippines</td>\n      <td>198</td>\n    </tr>\n    <tr>\n      <th>30</th>\n      <td>Poland</td>\n      <td>60</td>\n    </tr>\n    <tr>\n      <th>31</th>\n      <td>Portugal</td>\n      <td>37</td>\n    </tr>\n    <tr>\n      <th>32</th>\n      <td>Puerto-Rico</td>\n      <td>114</td>\n    </tr>\n    <tr>\n      <th>33</th>\n      <td>Scotland</td>\n      <td>12</td>\n    </tr>\n    <tr>\n      <th>34</th>\n      <td>South</td>\n      <td>80</td>\n    </tr>\n    <tr>\n      <th>35</th>\n      <td>Taiwan</td>\n      <td>51</td>\n    </tr>\n    <tr>\n      <th>36</th>\n      <td>Thailand</td>\n      <td>18</td>\n    </tr>\n    <tr>\n      <th>37</th>\n      <td>Trinadad&amp;Tobago</td>\n      <td>19</td>\n    </tr>\n    <tr>\n      <th>38</th>\n      <td>UNK</td>\n      <td>583</td>\n    </tr>\n    <tr>\n      <th>39</th>\n      <td>United-States</td>\n      <td>29170</td>\n    </tr>\n    <tr>\n      <th>40</th>\n      <td>Vietnam</td>\n      <td>67</td>\n    </tr>\n    <tr>\n      <th>41</th>\n      <td>Yugoslavia</td>\n      <td>16</td>\n    </tr>\n  </tbody>\n</table>\n</div>"
     },
     "execution_count": 58,
     "metadata": {},
     "output_type": "execute_result"
    }
   ],
   "source": [
    "dataframe['native-country'] = dataframe['native-country'].replace('?', 'UNK')\n",
    "dataframe.groupby(['native-country']).size().reset_index(name='counts')"
   ],
   "metadata": {
    "collapsed": false,
    "pycharm": {
     "name": "#%%\n"
    }
   }
  },
  {
   "cell_type": "markdown",
   "source": [
    "## salary analysis"
   ],
   "metadata": {
    "collapsed": false,
    "pycharm": {
     "name": "#%% md\n"
    }
   }
  },
  {
   "cell_type": "code",
   "execution_count": 59,
   "outputs": [
    {
     "data": {
      "text/plain": "  salary  counts\n0  <=50K   24720\n1   >50K    7841",
      "text/html": "<div>\n<style scoped>\n    .dataframe tbody tr th:only-of-type {\n        vertical-align: middle;\n    }\n\n    .dataframe tbody tr th {\n        vertical-align: top;\n    }\n\n    .dataframe thead th {\n        text-align: right;\n    }\n</style>\n<table border=\"1\" class=\"dataframe\">\n  <thead>\n    <tr style=\"text-align: right;\">\n      <th></th>\n      <th>salary</th>\n      <th>counts</th>\n    </tr>\n  </thead>\n  <tbody>\n    <tr>\n      <th>0</th>\n      <td>&lt;=50K</td>\n      <td>24720</td>\n    </tr>\n    <tr>\n      <th>1</th>\n      <td>&gt;50K</td>\n      <td>7841</td>\n    </tr>\n  </tbody>\n</table>\n</div>"
     },
     "execution_count": 59,
     "metadata": {},
     "output_type": "execute_result"
    }
   ],
   "source": [
    "dataframe.groupby(['salary']).size().reset_index(name='counts')"
   ],
   "metadata": {
    "collapsed": false,
    "pycharm": {
     "name": "#%%\n"
    }
   }
  },
  {
   "cell_type": "markdown",
   "source": [
    "# Statistics"
   ],
   "metadata": {
    "collapsed": false,
    "pycharm": {
     "name": "#%% md\n"
    }
   }
  },
  {
   "cell_type": "code",
   "execution_count": 64,
   "outputs": [
    {
     "name": "stdout",
     "output_type": "stream",
     "text": [
      "Number of rows: 32561\n",
      "Dataframe original column count: 15\n",
      "Dataframe column list: Index(['age', 'workclass', 'fnlwgt', 'education', 'education-num',\n",
      "       'marital-status', 'occupation', 'relationship', 'race', 'sex',\n",
      "       'capital-gain', 'capital-loss', 'hours-per-week', 'native-country',\n",
      "       'salary'],\n",
      "      dtype='object')\n",
      "Column data types: \n",
      "age column dtype: int64\n",
      "workclass column dtype: object\n",
      "fnlwgt column dtype: int64\n",
      "education column dtype: object\n",
      "education-num column dtype: int64\n",
      "marital-status column dtype: object\n",
      "occupation column dtype: object\n",
      "relationship column dtype: object\n",
      "race column dtype: object\n",
      "sex column dtype: object\n",
      "capital-gain column dtype: int64\n",
      "capital-loss column dtype: int64\n",
      "hours-per-week column dtype: int64\n",
      "native-country column dtype: object\n",
      "salary column dtype: object\n"
     ]
    }
   ],
   "source": [
    "print(f\"Number of rows: {dataframe.shape[0]}\")\n",
    "print(f\"Dataframe original column count: {len(dataframe.columns)}\")\n",
    "print(f\"Dataframe column list: {dataframe.columns}\")\n",
    "print(\"Column data types: \")\n",
    "for col in dataframe.columns:\n",
    "    print(f\"{col} column dtype: {dataframe[col].dtype}\")"
   ],
   "metadata": {
    "collapsed": false,
    "pycharm": {
     "name": "#%%\n"
    }
   }
  },
  {
   "cell_type": "code",
   "execution_count": 70,
   "outputs": [],
   "source": [
    "for col in dataframe.columns:\n",
    "    if dataframe[col].dtype == 'int64':\n",
    "        continue\n",
    "    one_hot_encoded = pd.get_dummies(dataframe[col], prefix=col, prefix_sep='_', drop_first=True, dtype=int)\n",
    "    dataframe = dataframe.join(one_hot_encoded)\n",
    "    dataframe = dataframe.drop(col,axis = 1)"
   ],
   "metadata": {
    "collapsed": false,
    "pycharm": {
     "name": "#%%\n"
    }
   }
  },
  {
   "cell_type": "code",
   "execution_count": 72,
   "outputs": [
    {
     "name": "stdout",
     "output_type": "stream",
     "text": [
      "current column count: 101\n",
      "current column names: Index(['age', 'fnlwgt', 'education-num', 'capital-gain', 'capital-loss',\n",
      "       'hours-per-week', 'workclass_Local-gov', 'workclass_Never-worked',\n",
      "       'workclass_Private', 'workclass_Self-emp-inc',\n",
      "       ...\n",
      "       'native-country_Scotland', 'native-country_South',\n",
      "       'native-country_Taiwan', 'native-country_Thailand',\n",
      "       'native-country_Trinadad&Tobago', 'native-country_UNK',\n",
      "       'native-country_United-States', 'native-country_Vietnam',\n",
      "       'native-country_Yugoslavia', 'salary_>50K'],\n",
      "      dtype='object', length=101)\n"
     ]
    }
   ],
   "source": [
    "print(f\"current column count: {len(dataframe.columns)}\")\n",
    "print(f\"current column names: {dataframe.columns}\")"
   ],
   "metadata": {
    "collapsed": false,
    "pycharm": {
     "name": "#%%\n"
    }
   }
  },
  {
   "cell_type": "code",
   "execution_count": 74,
   "outputs": [],
   "source": [
    "target_column = \"salary_>50K\"\n",
    "X_dataframe = dataframe.drop(target_column, inplace=False, axis=1)\n",
    "Y_dataframe = dataframe[target_column]"
   ],
   "metadata": {
    "collapsed": false,
    "pycharm": {
     "name": "#%%\n"
    }
   }
  },
  {
   "cell_type": "code",
   "execution_count": 75,
   "outputs": [],
   "source": [
    "# checking whether all data is numeric\n",
    "for col in X_dataframe:\n",
    "    for i in range(len(X_dataframe[col])):\n",
    "        try:\n",
    "            float(X_dataframe[col][i])\n",
    "        except ValueError as e:\n",
    "            print(X_dataframe[col][i] == ' ')\n",
    "            print(f\"found missing value {X_dataframe[col][i]} in {col} column, {i} row\")\n",
    "            exit(1)"
   ],
   "metadata": {
    "collapsed": false,
    "pycharm": {
     "name": "#%%\n"
    }
   }
  },
  {
   "cell_type": "code",
   "execution_count": 80,
   "outputs": [
    {
     "data": {
      "text/plain": "['marital-status_Married-civ-spouse',\n 'capital-gain',\n 'age',\n 'marital-status_Never-married',\n 'education-num',\n 'hours-per-week',\n 'relationship_Own-child',\n 'capital-loss',\n 'fnlwgt',\n 'sex_Male',\n 'occupation_Exec-managerial',\n 'relationship_Not-in-family',\n 'occupation_Other-service',\n 'occupation_Prof-specialty',\n 'education_Bachelors',\n 'relationship_Unmarried',\n 'education_Masters',\n 'workclass_Self-emp-inc',\n 'education_HS-grad',\n 'education_Prof-school',\n 'education_Doctorate',\n 'race_White',\n 'relationship_Other-relative',\n 'relationship_Wife',\n 'occupation_UNK',\n 'race_Black',\n 'workclass_UNK',\n 'education_11th',\n 'occupation_Handlers-cleaners',\n 'native-country_United-States',\n 'marital-status_Separated',\n 'native-country_Mexico',\n 'marital-status_Widowed',\n 'education_9th',\n 'occupation_Machine-op-inspct',\n 'workclass_Private',\n 'education_7th-8th',\n 'education_5th-6th',\n 'education_Some-college',\n 'workclass_Local-gov',\n 'occupation_Priv-house-serv',\n 'marital-status_Married-spouse-absent',\n 'education_1st-4th',\n 'native-country_China',\n 'education_12th',\n 'native-country_Columbia',\n 'education_Preschool',\n 'race_Other',\n 'native-country_El-Salvador',\n 'occupation_Farming-fishing']"
     },
     "execution_count": 80,
     "metadata": {},
     "output_type": "execute_result"
    }
   ],
   "source": [
    "information_gains = []\n",
    "for column in X_dataframe.columns:\n",
    "    single_column = X_dataframe[column].to_numpy()\n",
    "    single_column = single_column.reshape((single_column.shape[0], 1))\n",
    "    information_gain = mutual_info_classif(single_column, Y_dataframe, random_state=42)[0]\n",
    "    information_gains.append({\n",
    "        \"column\": column,\n",
    "        \"information\": information_gain\n",
    "    })\n",
    "\n",
    "sorted_attributes = sorted(information_gains, key=lambda d: d['information'], reverse=True)\n",
    "keeping_attributes = []\n",
    "for info in sorted_attributes[:column_count]:\n",
    "    keeping_attributes.append(info[\"column\"])"
   ],
   "metadata": {
    "collapsed": false,
    "pycharm": {
     "name": "#%%\n"
    }
   }
  },
  {
   "cell_type": "code",
   "execution_count": 82,
   "outputs": [
    {
     "name": "stdout",
     "output_type": "stream",
     "text": [
      "length of keeping attributes: 50\n"
     ]
    },
    {
     "data": {
      "text/plain": "['marital-status_Married-civ-spouse',\n 'capital-gain',\n 'age',\n 'marital-status_Never-married',\n 'education-num',\n 'hours-per-week',\n 'relationship_Own-child',\n 'capital-loss',\n 'fnlwgt',\n 'sex_Male',\n 'occupation_Exec-managerial',\n 'relationship_Not-in-family',\n 'occupation_Other-service',\n 'occupation_Prof-specialty',\n 'education_Bachelors',\n 'relationship_Unmarried',\n 'education_Masters',\n 'workclass_Self-emp-inc',\n 'education_HS-grad',\n 'education_Prof-school',\n 'education_Doctorate',\n 'race_White',\n 'relationship_Other-relative',\n 'relationship_Wife',\n 'occupation_UNK',\n 'race_Black',\n 'workclass_UNK',\n 'education_11th',\n 'occupation_Handlers-cleaners',\n 'native-country_United-States',\n 'marital-status_Separated',\n 'native-country_Mexico',\n 'marital-status_Widowed',\n 'education_9th',\n 'occupation_Machine-op-inspct',\n 'workclass_Private',\n 'education_7th-8th',\n 'education_5th-6th',\n 'education_Some-college',\n 'workclass_Local-gov',\n 'occupation_Priv-house-serv',\n 'marital-status_Married-spouse-absent',\n 'education_1st-4th',\n 'native-country_China',\n 'education_12th',\n 'native-country_Columbia',\n 'education_Preschool',\n 'race_Other',\n 'native-country_El-Salvador',\n 'occupation_Farming-fishing']"
     },
     "execution_count": 82,
     "metadata": {},
     "output_type": "execute_result"
    }
   ],
   "source": [
    "print(f\"length of keeping attributes: {len(keeping_attributes)}\")\n",
    "keeping_attributes"
   ],
   "metadata": {
    "collapsed": false,
    "pycharm": {
     "name": "#%%\n"
    }
   }
  },
  {
   "cell_type": "code",
   "execution_count": 83,
   "outputs": [],
   "source": [
    "X_dataframe = X_dataframe[keeping_attributes]"
   ],
   "metadata": {
    "collapsed": false,
    "pycharm": {
     "name": "#%%\n"
    }
   }
  },
  {
   "cell_type": "code",
   "execution_count": 84,
   "outputs": [
    {
     "data": {
      "text/plain": "50"
     },
     "execution_count": 84,
     "metadata": {},
     "output_type": "execute_result"
    }
   ],
   "source": [
    "len(X_dataframe.columns)"
   ],
   "metadata": {
    "collapsed": false,
    "pycharm": {
     "name": "#%%\n"
    }
   }
  },
  {
   "cell_type": "code",
   "execution_count": null,
   "outputs": [],
   "source": [
    "# add bias column\n",
    "X_dataframe['ones'] = 1"
   ],
   "metadata": {
    "collapsed": false,
    "pycharm": {
     "name": "#%%\n"
    }
   }
  },
  {
   "cell_type": "code",
   "execution_count": 88,
   "outputs": [],
   "source": [
    "# conversion to numpy array and scaling\n",
    "X_numpy = X_dataframe.to_numpy()\n",
    "Y_numpy = Y_dataframe.to_numpy().reshape((Y_dataframe.shape[0],1))\n",
    "scaler = StandardScaler()\n",
    "X_numpy = scaler.fit_transform(X_numpy)"
   ],
   "metadata": {
    "collapsed": false,
    "pycharm": {
     "name": "#%%\n"
    }
   }
  },
  {
   "cell_type": "code",
   "execution_count": 89,
   "outputs": [
    {
     "name": "stdout",
     "output_type": "stream",
     "text": [
      "X_numpy shape: (32561, 50)\n",
      "Y_numpy shape: (32561, 1)\n"
     ]
    }
   ],
   "source": [
    "print(f\"X_numpy shape: {X_numpy.shape}\")\n",
    "print(f\"Y_numpy shape: {Y_numpy.shape}\")"
   ],
   "metadata": {
    "collapsed": false,
    "pycharm": {
     "name": "#%%\n"
    }
   }
  },
  {
   "cell_type": "code",
   "execution_count": null,
   "outputs": [],
   "source": [],
   "metadata": {
    "collapsed": false,
    "pycharm": {
     "name": "#%%\n"
    }
   }
  },
  {
   "cell_type": "code",
   "execution_count": null,
   "outputs": [],
   "source": [],
   "metadata": {
    "collapsed": false,
    "pycharm": {
     "name": "#%%\n"
    }
   }
  }
 ],
 "metadata": {
  "kernelspec": {
   "display_name": "Python 3",
   "language": "python",
   "name": "python3"
  },
  "language_info": {
   "codemirror_mode": {
    "name": "ipython",
    "version": 2
   },
   "file_extension": ".py",
   "mimetype": "text/x-python",
   "name": "python",
   "nbconvert_exporter": "python",
   "pygments_lexer": "ipython2",
   "version": "2.7.6"
  }
 },
 "nbformat": 4,
 "nbformat_minor": 0
}