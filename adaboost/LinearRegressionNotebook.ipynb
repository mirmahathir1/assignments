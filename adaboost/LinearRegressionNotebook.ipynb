{
 "cells": [
  {
   "cell_type": "code",
   "execution_count": 55,
   "outputs": [
    {
     "data": {
      "text/plain": "<module 'data_preprocessing.credit' from '/mnt/604a8326-53f8-4a01-bed2-313518eb2318/LinuxData/Documents/Git/assignments/adaboost/data_preprocessing/credit.py'>"
     },
     "execution_count": 55,
     "metadata": {},
     "output_type": "execute_result"
    }
   ],
   "source": [
    "from sklearn.model_selection import train_test_split\n",
    "#load data from any one of the following lines\n",
    "import data_preprocessing.credit as data_loader\n",
    "# import data_preprocessing.adult as data_loader\n",
    "# import data_preprocessing.telco as data_loader\n",
    "import lib.regression as reg\n",
    "import numpy as np\n",
    "from sklearn.metrics import accuracy_score, precision_score, recall_score, f1_score\n",
    "import importlib\n",
    "importlib.reload(reg)\n",
    "importlib.reload(data_loader)"
   ],
   "metadata": {
    "collapsed": false,
    "pycharm": {
     "name": "#%%\n"
    }
   }
  },
  {
   "cell_type": "code",
   "execution_count": 56,
   "outputs": [
    {
     "name": "stdout",
     "output_type": "stream",
     "text": [
      "row count with class 1: 492\n",
      "row count with class 0: 284315\n",
      "0 classes are 577 times more than 1 classes\n",
      "Dataframe columns: Index(['V1', 'V2', 'V3', 'V4', 'V5', 'V6', 'V7', 'V8', 'V9', 'V10', 'V11',\n",
      "       'V12', 'V13', 'V14', 'V15', 'V16', 'V17', 'V18', 'V19', 'V20', 'V21',\n",
      "       'V22', 'V23', 'V24', 'V25', 'V26', 'V27', 'V28', 'Amount', 'Class'],\n",
      "      dtype='object')\n",
      "length of keeping attributes: 25\n",
      "X_numpy shape: (20492, 26)\n",
      "Y_numpy shape: (20492, 1)\n"
     ]
    }
   ],
   "source": [
    "(X, Y) = data_loader.load(column_count=25)\n",
    "#%\n",
    "X_train, X_test, y_train, y_test = train_test_split(X, Y, test_size=0.20, random_state=42)"
   ],
   "metadata": {
    "collapsed": false,
    "pycharm": {
     "name": "#%%\n"
    }
   }
  },
  {
   "cell_type": "code",
   "execution_count": 57,
   "outputs": [
    {
     "name": "stdout",
     "output_type": "stream",
     "text": [
      "Epoch 0. Loss= 0.22283025512821183\n",
      "Epoch 100. Loss= 0.02147280559337986\n",
      "Epoch 200. Loss= 0.0214726815781258\n",
      "Epoch 300. Loss= 0.021472637359608974\n",
      "Epoch 400. Loss= 0.021472377187274364\n",
      "Epoch 500. Loss= 0.02025261659928606\n",
      "Epoch 600. Loss= 0.02025257777448665\n",
      "Epoch 700. Loss= 0.020252566706174077\n",
      "Epoch 800. Loss= 0.020252561464683367\n",
      "Epoch 900. Loss= 0.020252558404554557\n"
     ]
    }
   ],
   "source": [
    "logistic_regression =  reg.LogisticRegression()\n",
    "loss = logistic_regression.fit(X_train,y_train,number_of_epochs=1000,learning_rate=0.01)"
   ],
   "metadata": {
    "collapsed": false,
    "pycharm": {
     "name": "#%%\n"
    }
   }
  },
  {
   "cell_type": "code",
   "execution_count": 58,
   "outputs": [],
   "source": [
    "y_pred_train = logistic_regression.predict(X_train)\n",
    "y_pred_test = logistic_regression.predict(X_test)"
   ],
   "metadata": {
    "collapsed": false,
    "pycharm": {
     "name": "#%%\n"
    }
   }
  },
  {
   "cell_type": "code",
   "execution_count": 59,
   "outputs": [],
   "source": [
    "def report_performance(y_actual, y_predicted):\n",
    "    false_negative = np.array([1 if (y_predicted[i] == 0 and y_actual[i] == 1) else 0 for i in range(len(y_predicted))]).sum()\n",
    "    false_positive = np.array([1 if (y_predicted[i] == 1 and y_actual[i] == 0) else 0 for i in range(len(y_predicted))]).sum()\n",
    "    true_positive = np.array([1 if (y_predicted[i] == 1 and y_actual[i] == 1) else 0 for i in range(len(y_predicted))]).sum()\n",
    "    true_negative = np.array([1 if (y_predicted[i] == 0 and y_actual[i] == 0) else 0 for i in range(len(y_predicted))]).sum()\n",
    "    print(f\"train accuracy: {accuracy_score(y_actual, y_predicted)}\")\n",
    "    print(f\"precision: {precision_score(y_actual, y_predicted)}\")\n",
    "    print(f\"recall: {recall_score(y_actual, y_predicted)}\")\n",
    "    print(f\"f1 score: {f1_score(y_actual, y_predicted)}\")\n",
    "    print(f\"false discovery: {false_positive/(false_positive+ true_positive)}\")\n",
    "    print(f\"specificity: {true_negative/(true_negative+false_positive)}\")"
   ],
   "metadata": {
    "collapsed": false,
    "pycharm": {
     "name": "#%%\n"
    }
   }
  },
  {
   "cell_type": "code",
   "execution_count": 60,
   "outputs": [
    {
     "name": "stdout",
     "output_type": "stream",
     "text": [
      "training stats: __________________________________________________\n",
      "train accuracy: 0.994936863295309\n",
      "precision: 0.9845201238390093\n",
      "recall: 0.803030303030303\n",
      "f1 score: 0.8845618915159944\n",
      "false discovery: 0.015479876160990712\n",
      "specificity: 0.9996874413952617\n",
      "testing stats: __________________________________________________\n",
      "train accuracy: 0.9929251036838254\n",
      "precision: 0.9466666666666667\n",
      "recall: 0.7395833333333334\n",
      "f1 score: 0.8304093567251462\n",
      "false discovery: 0.05333333333333334\n",
      "specificity: 0.9990007494379216\n"
     ]
    }
   ],
   "source": [
    "print(\"training stats: \"+\"_\"*50)\n",
    "report_performance(y_train, y_pred_train)\n",
    "print(\"testing stats: \"+\"_\"*50)\n",
    "report_performance(y_test, y_pred_test)"
   ],
   "metadata": {
    "collapsed": false,
    "pycharm": {
     "name": "#%%\n"
    }
   }
  },
  {
   "cell_type": "code",
   "execution_count": 60,
   "outputs": [],
   "source": [],
   "metadata": {
    "collapsed": false,
    "pycharm": {
     "name": "#%%\n"
    }
   }
  }
 ],
 "metadata": {
  "kernelspec": {
   "display_name": "Python 3",
   "language": "python",
   "name": "python3"
  },
  "language_info": {
   "codemirror_mode": {
    "name": "ipython",
    "version": 2
   },
   "file_extension": ".py",
   "mimetype": "text/x-python",
   "name": "python",
   "nbconvert_exporter": "python",
   "pygments_lexer": "ipython2",
   "version": "2.7.6"
  }
 },
 "nbformat": 4,
 "nbformat_minor": 0
}